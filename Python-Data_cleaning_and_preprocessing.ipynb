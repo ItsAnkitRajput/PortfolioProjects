{
 "cells": [
  {
   "cell_type": "markdown",
   "metadata": {},
   "source": [
    "# Data Cleaning\n",
    "\n",
    "   First step of any data related project is to extract the data, Second is to clean it, which is called as Data Cleaning. \n",
    "\n",
    "   Here I have used the data which is available on LendingClub website but it is not a clean data therefore it needs to be cleaned before it is of any use.\n",
    "   \n",
    "   To start I'll load the dataset into a pandas DataFrame and name it **lending_club_loan_data**. The next step will be to clean this data, as it contains human errors, null values, irregular data formats, outliers, and lengthy texts.\n",
    "\n",
    "Here are the specific cleaning steps I'll take:\n",
    "\n",
    "- **Remove the first line**: \n",
    "\n",
    "   This line contains extraneous text instead of the column titles, which prevents the dataset from being parsed properly by the pandas library.\n",
    "\n",
    "\n",
    "- **Drop unnecessary columns**:\n",
    "\n",
    "   - The desc column, which contains a long text explanation for the loan that I won't need. \n",
    "   - The url column,which contains links to each loan on Lending Club, accessible only with an investor account.\n",
    "\n",
    "\n",
    "- **Eliminate columns with excessive missing values**: \n",
    "\n",
    "    Removing all columns that have more than 50% missing values. This will help streamline the data processing while keeping the dataset meaningful, as it's large enough to remain useful even after these columns are removed.\n",
    "\n",
    "\n",
    "Finally, I'll name the cleaned dataset **cleaned_loans_2007** and save it as csv file. This will keep the cleaned data separate from the raw data, ensuring that I have the original dataset available if I need to retrieve anything later. \n",
    "\n",
    "Then I'll start feature selection and feature engineering where I'll select which feature can help the model and create new features/column based on other columns to help the model classify defaulters.\n",
    "\n",
    "\n",
    "**To get started with python we need to import some libraries.**"
   ]
  },
  {
   "cell_type": "code",
   "execution_count": 210,
   "metadata": {},
   "outputs": [],
   "source": [
    "import pandas as pd\n",
    "import seaborn as sns\n",
    "from matplotlib import pyplot as plt"
   ]
  },
  {
   "cell_type": "markdown",
   "metadata": {},
   "source": [
    "Now, I'll go ahead and perform these steps:\n",
    "\n",
    "- **Step 1 : Skipping row 1 so pandas can parse the data properly.**"
   ]
  },
  {
   "cell_type": "code",
   "execution_count": 211,
   "metadata": {},
   "outputs": [],
   "source": [
    "\n",
    "loans_2007 = pd.read_csv('lending_club_loans.csv', skiprows=1, low_memory=False) "
   ]
  },
  {
   "cell_type": "markdown",
   "metadata": {},
   "source": [
    "- Dropping any column with more than 50% missing values"
   ]
  },
  {
   "cell_type": "code",
   "execution_count": 212,
   "metadata": {},
   "outputs": [],
   "source": [
    "half_count = len(loans_2007) / 2 \n",
    "loans_2007 = loans_2007.dropna(thresh=half_count,axis=1)"
   ]
  },
  {
   "cell_type": "markdown",
   "metadata": {},
   "source": [
    "- Dropping 'url' and 'desc' columns as they are of no use"
   ]
  },
  {
   "cell_type": "code",
   "execution_count": 213,
   "metadata": {},
   "outputs": [],
   "source": [
    "loans_2007 = loans_2007.drop(['url','desc'],axis=1)"
   ]
  },
  {
   "cell_type": "markdown",
   "metadata": {},
   "source": [
    "I'll use the pandas \"head()\" method to display first three rows of the loans_2007 DataFrame, just to make sure we were able to load the dataset properly:"
   ]
  },
  {
   "cell_type": "code",
   "execution_count": 214,
   "metadata": {},
   "outputs": [
    {
     "data": {
      "text/html": [
       "<div>\n",
       "<style scoped>\n",
       "    .dataframe tbody tr th:only-of-type {\n",
       "        vertical-align: middle;\n",
       "    }\n",
       "\n",
       "    .dataframe tbody tr th {\n",
       "        vertical-align: top;\n",
       "    }\n",
       "\n",
       "    .dataframe thead th {\n",
       "        text-align: right;\n",
       "    }\n",
       "</style>\n",
       "<table border=\"1\" class=\"dataframe\">\n",
       "  <thead>\n",
       "    <tr style=\"text-align: right;\">\n",
       "      <th></th>\n",
       "      <th>id</th>\n",
       "      <th>member_id</th>\n",
       "      <th>loan_amnt</th>\n",
       "      <th>funded_amnt</th>\n",
       "      <th>funded_amnt_inv</th>\n",
       "      <th>term</th>\n",
       "      <th>int_rate</th>\n",
       "      <th>installment</th>\n",
       "      <th>grade</th>\n",
       "      <th>sub_grade</th>\n",
       "      <th>...</th>\n",
       "      <th>last_fico_range_high</th>\n",
       "      <th>last_fico_range_low</th>\n",
       "      <th>collections_12_mths_ex_med</th>\n",
       "      <th>policy_code</th>\n",
       "      <th>application_type</th>\n",
       "      <th>acc_now_delinq</th>\n",
       "      <th>chargeoff_within_12_mths</th>\n",
       "      <th>delinq_amnt</th>\n",
       "      <th>pub_rec_bankruptcies</th>\n",
       "      <th>tax_liens</th>\n",
       "    </tr>\n",
       "  </thead>\n",
       "  <tbody>\n",
       "    <tr>\n",
       "      <th>0</th>\n",
       "      <td>1077501</td>\n",
       "      <td>1296599.0</td>\n",
       "      <td>5000.0</td>\n",
       "      <td>5000.0</td>\n",
       "      <td>4975.0</td>\n",
       "      <td>36 months</td>\n",
       "      <td>10.65%</td>\n",
       "      <td>162.87</td>\n",
       "      <td>B</td>\n",
       "      <td>B2</td>\n",
       "      <td>...</td>\n",
       "      <td>744.0</td>\n",
       "      <td>740.0</td>\n",
       "      <td>0.0</td>\n",
       "      <td>1.0</td>\n",
       "      <td>INDIVIDUAL</td>\n",
       "      <td>0.0</td>\n",
       "      <td>0.0</td>\n",
       "      <td>0.0</td>\n",
       "      <td>0.0</td>\n",
       "      <td>0.0</td>\n",
       "    </tr>\n",
       "    <tr>\n",
       "      <th>1</th>\n",
       "      <td>1077430</td>\n",
       "      <td>1314167.0</td>\n",
       "      <td>2500.0</td>\n",
       "      <td>2500.0</td>\n",
       "      <td>2500.0</td>\n",
       "      <td>60 months</td>\n",
       "      <td>15.27%</td>\n",
       "      <td>59.83</td>\n",
       "      <td>C</td>\n",
       "      <td>C4</td>\n",
       "      <td>...</td>\n",
       "      <td>499.0</td>\n",
       "      <td>0.0</td>\n",
       "      <td>0.0</td>\n",
       "      <td>1.0</td>\n",
       "      <td>INDIVIDUAL</td>\n",
       "      <td>0.0</td>\n",
       "      <td>0.0</td>\n",
       "      <td>0.0</td>\n",
       "      <td>0.0</td>\n",
       "      <td>0.0</td>\n",
       "    </tr>\n",
       "    <tr>\n",
       "      <th>2</th>\n",
       "      <td>1077175</td>\n",
       "      <td>1313524.0</td>\n",
       "      <td>2400.0</td>\n",
       "      <td>2400.0</td>\n",
       "      <td>2400.0</td>\n",
       "      <td>36 months</td>\n",
       "      <td>15.96%</td>\n",
       "      <td>84.33</td>\n",
       "      <td>C</td>\n",
       "      <td>C5</td>\n",
       "      <td>...</td>\n",
       "      <td>719.0</td>\n",
       "      <td>715.0</td>\n",
       "      <td>0.0</td>\n",
       "      <td>1.0</td>\n",
       "      <td>INDIVIDUAL</td>\n",
       "      <td>0.0</td>\n",
       "      <td>0.0</td>\n",
       "      <td>0.0</td>\n",
       "      <td>0.0</td>\n",
       "      <td>0.0</td>\n",
       "    </tr>\n",
       "  </tbody>\n",
       "</table>\n",
       "<p>3 rows × 56 columns</p>\n",
       "</div>"
      ],
      "text/plain": [
       "        id  member_id  loan_amnt  funded_amnt  funded_amnt_inv        term  \\\n",
       "0  1077501  1296599.0     5000.0       5000.0           4975.0   36 months   \n",
       "1  1077430  1314167.0     2500.0       2500.0           2500.0   60 months   \n",
       "2  1077175  1313524.0     2400.0       2400.0           2400.0   36 months   \n",
       "\n",
       "  int_rate  installment grade sub_grade  ... last_fico_range_high  \\\n",
       "0   10.65%       162.87     B        B2  ...                744.0   \n",
       "1   15.27%        59.83     C        C4  ...                499.0   \n",
       "2   15.96%        84.33     C        C5  ...                719.0   \n",
       "\n",
       "  last_fico_range_low collections_12_mths_ex_med  policy_code  \\\n",
       "0               740.0                        0.0          1.0   \n",
       "1                 0.0                        0.0          1.0   \n",
       "2               715.0                        0.0          1.0   \n",
       "\n",
       "  application_type acc_now_delinq chargeoff_within_12_mths delinq_amnt  \\\n",
       "0       INDIVIDUAL            0.0                      0.0         0.0   \n",
       "1       INDIVIDUAL            0.0                      0.0         0.0   \n",
       "2       INDIVIDUAL            0.0                      0.0         0.0   \n",
       "\n",
       "  pub_rec_bankruptcies tax_liens  \n",
       "0                  0.0       0.0  \n",
       "1                  0.0       0.0  \n",
       "2                  0.0       0.0  \n",
       "\n",
       "[3 rows x 56 columns]"
      ]
     },
     "execution_count": 214,
     "metadata": {},
     "output_type": "execute_result"
    }
   ],
   "source": [
    "loans_2007.head(3)"
   ]
  },
  {
   "cell_type": "markdown",
   "metadata": {},
   "source": [
    "I'll also use pandas \".shape\" attribute to view the number of samples and features I am dealing with at this stage:"
   ]
  },
  {
   "cell_type": "code",
   "execution_count": 215,
   "metadata": {},
   "outputs": [
    {
     "data": {
      "text/plain": [
       "(42538, 56)"
      ]
     },
     "execution_count": 215,
     "metadata": {},
     "output_type": "execute_result"
    }
   ],
   "source": [
    "loans_2007.shape"
   ]
  },
  {
   "cell_type": "markdown",
   "metadata": {},
   "source": [
    "- **Step 2: Narrowing Down Our Columns for Cleaning**\n",
    "\n",
    "    Now that I've got my data set up, I should spend some time exploring it and understanding what feature each column represents. This is important because having a poor understanding of the features could cause me to make mistakes in the data analysis and the modeling process.\n",
    "\n",
    "    I'll be using the data dictionary LendingClub provides to help me become familiar with the columns and what each represents in the data set. To make the process easier, I'll create a DataFrame to contain the names of the columns, data type, first row's values, and description from the data dictionary. Let's load that dictionary and take a look.\n",
    "\n",
    "Loading in the data dictionary"
   ]
  },
  {
   "cell_type": "code",
   "execution_count": 216,
   "metadata": {},
   "outputs": [
    {
     "name": "stdout",
     "output_type": "stream",
     "text": [
      "117\n"
     ]
    }
   ],
   "source": [
    "data_dictionary = pd.read_csv('LCDataDictionary.csv')  \n",
    "print(data_dictionary.shape[0]) "
   ]
  },
  {
   "cell_type": "code",
   "execution_count": 217,
   "metadata": {},
   "outputs": [
    {
     "name": "stdout",
     "output_type": "stream",
     "text": [
      "['LoanStatNew', 'Description']\n"
     ]
    }
   ],
   "source": [
    "print(data_dictionary.columns.tolist())"
   ]
  },
  {
   "cell_type": "code",
   "execution_count": 218,
   "metadata": {},
   "outputs": [
    {
     "data": {
      "text/html": [
       "<div>\n",
       "<style scoped>\n",
       "    .dataframe tbody tr th:only-of-type {\n",
       "        vertical-align: middle;\n",
       "    }\n",
       "\n",
       "    .dataframe tbody tr th {\n",
       "        vertical-align: top;\n",
       "    }\n",
       "\n",
       "    .dataframe thead th {\n",
       "        text-align: right;\n",
       "    }\n",
       "</style>\n",
       "<table border=\"1\" class=\"dataframe\">\n",
       "  <thead>\n",
       "    <tr style=\"text-align: right;\">\n",
       "      <th></th>\n",
       "      <th>LoanStatNew</th>\n",
       "      <th>Description</th>\n",
       "    </tr>\n",
       "  </thead>\n",
       "  <tbody>\n",
       "    <tr>\n",
       "      <th>0</th>\n",
       "      <td>acc_now_delinq</td>\n",
       "      <td>The number of accounts on which the borrower i...</td>\n",
       "    </tr>\n",
       "    <tr>\n",
       "      <th>1</th>\n",
       "      <td>acc_open_past_24mths</td>\n",
       "      <td>Number of trades opened in past 24 months.</td>\n",
       "    </tr>\n",
       "    <tr>\n",
       "      <th>2</th>\n",
       "      <td>addr_state</td>\n",
       "      <td>The state provided by the borrower in the loan...</td>\n",
       "    </tr>\n",
       "    <tr>\n",
       "      <th>3</th>\n",
       "      <td>all_util</td>\n",
       "      <td>Balance to credit limit on all trades</td>\n",
       "    </tr>\n",
       "    <tr>\n",
       "      <th>4</th>\n",
       "      <td>annual_inc</td>\n",
       "      <td>The self-reported annual income provided by th...</td>\n",
       "    </tr>\n",
       "  </tbody>\n",
       "</table>\n",
       "</div>"
      ],
      "text/plain": [
       "            LoanStatNew                                        Description\n",
       "0        acc_now_delinq  The number of accounts on which the borrower i...\n",
       "1  acc_open_past_24mths         Number of trades opened in past 24 months.\n",
       "2            addr_state  The state provided by the borrower in the loan...\n",
       "3              all_util              Balance to credit limit on all trades\n",
       "4            annual_inc  The self-reported annual income provided by th..."
      ]
     },
     "execution_count": 218,
     "metadata": {},
     "output_type": "execute_result"
    }
   ],
   "source": [
    "data_dictionary.head() \n"
   ]
  },
  {
   "cell_type": "markdown",
   "metadata": {},
   "source": [
    "Renaming columns for ease of reading"
   ]
  },
  {
   "cell_type": "code",
   "execution_count": 219,
   "metadata": {},
   "outputs": [],
   "source": [
    "data_dictionary = data_dictionary.rename(columns={'LoanStatNew': 'name', 'Description': 'description'})"
   ]
  },
  {
   "cell_type": "code",
   "execution_count": 220,
   "metadata": {},
   "outputs": [
    {
     "data": {
      "text/html": [
       "<div>\n",
       "<style scoped>\n",
       "    .dataframe tbody tr th:only-of-type {\n",
       "        vertical-align: middle;\n",
       "    }\n",
       "\n",
       "    .dataframe tbody tr th {\n",
       "        vertical-align: top;\n",
       "    }\n",
       "\n",
       "    .dataframe thead th {\n",
       "        text-align: right;\n",
       "    }\n",
       "</style>\n",
       "<table border=\"1\" class=\"dataframe\">\n",
       "  <thead>\n",
       "    <tr style=\"text-align: right;\">\n",
       "      <th></th>\n",
       "      <th>name</th>\n",
       "      <th>description</th>\n",
       "    </tr>\n",
       "  </thead>\n",
       "  <tbody>\n",
       "    <tr>\n",
       "      <th>0</th>\n",
       "      <td>acc_now_delinq</td>\n",
       "      <td>The number of accounts on which the borrower i...</td>\n",
       "    </tr>\n",
       "    <tr>\n",
       "      <th>1</th>\n",
       "      <td>acc_open_past_24mths</td>\n",
       "      <td>Number of trades opened in past 24 months.</td>\n",
       "    </tr>\n",
       "    <tr>\n",
       "      <th>2</th>\n",
       "      <td>addr_state</td>\n",
       "      <td>The state provided by the borrower in the loan...</td>\n",
       "    </tr>\n",
       "    <tr>\n",
       "      <th>3</th>\n",
       "      <td>all_util</td>\n",
       "      <td>Balance to credit limit on all trades</td>\n",
       "    </tr>\n",
       "    <tr>\n",
       "      <th>4</th>\n",
       "      <td>annual_inc</td>\n",
       "      <td>The self-reported annual income provided by th...</td>\n",
       "    </tr>\n",
       "  </tbody>\n",
       "</table>\n",
       "</div>"
      ],
      "text/plain": [
       "                   name                                        description\n",
       "0        acc_now_delinq  The number of accounts on which the borrower i...\n",
       "1  acc_open_past_24mths         Number of trades opened in past 24 months.\n",
       "2            addr_state  The state provided by the borrower in the loan...\n",
       "3              all_util              Balance to credit limit on all trades\n",
       "4            annual_inc  The self-reported annual income provided by th..."
      ]
     },
     "execution_count": 220,
     "metadata": {},
     "output_type": "execute_result"
    }
   ],
   "source": [
    "data_dictionary.head()"
   ]
  },
  {
   "cell_type": "markdown",
   "metadata": {},
   "source": [
    "Now that I've got the data dictionary loaded, I'll join the first row of loans_2007 to the data_dictionary DataFrame to give me a preview DataFrame with the following columns:\n",
    "\n",
    "- name          — contains the column names of loans_2007. \n",
    "- dtypes        — contains the data types of the loans_2007 columns. \n",
    "- first value   — contains the values of loans_2007 first row. \n",
    "- description   — explains what each column in loans_2007 represents."
   ]
  },
  {
   "cell_type": "code",
   "execution_count": 221,
   "metadata": {},
   "outputs": [
    {
     "data": {
      "text/html": [
       "<div>\n",
       "<style scoped>\n",
       "    .dataframe tbody tr th:only-of-type {\n",
       "        vertical-align: middle;\n",
       "    }\n",
       "\n",
       "    .dataframe tbody tr th {\n",
       "        vertical-align: top;\n",
       "    }\n",
       "\n",
       "    .dataframe thead th {\n",
       "        text-align: right;\n",
       "    }\n",
       "</style>\n",
       "<table border=\"1\" class=\"dataframe\">\n",
       "  <thead>\n",
       "    <tr style=\"text-align: right;\">\n",
       "      <th></th>\n",
       "      <th>name</th>\n",
       "      <th>dtypes</th>\n",
       "      <th>first value</th>\n",
       "      <th>description</th>\n",
       "    </tr>\n",
       "  </thead>\n",
       "  <tbody>\n",
       "    <tr>\n",
       "      <th>0</th>\n",
       "      <td>id</td>\n",
       "      <td>object</td>\n",
       "      <td>1077501</td>\n",
       "      <td>A unique LC assigned ID for the loan listing.</td>\n",
       "    </tr>\n",
       "    <tr>\n",
       "      <th>1</th>\n",
       "      <td>member_id</td>\n",
       "      <td>float64</td>\n",
       "      <td>1296599.0</td>\n",
       "      <td>A unique LC assigned Id for the borrower member.</td>\n",
       "    </tr>\n",
       "    <tr>\n",
       "      <th>2</th>\n",
       "      <td>loan_amnt</td>\n",
       "      <td>float64</td>\n",
       "      <td>5000.0</td>\n",
       "      <td>The listed amount of the loan applied for by t...</td>\n",
       "    </tr>\n",
       "    <tr>\n",
       "      <th>3</th>\n",
       "      <td>funded_amnt</td>\n",
       "      <td>float64</td>\n",
       "      <td>5000.0</td>\n",
       "      <td>The total amount committed to that loan at tha...</td>\n",
       "    </tr>\n",
       "    <tr>\n",
       "      <th>4</th>\n",
       "      <td>funded_amnt_inv</td>\n",
       "      <td>float64</td>\n",
       "      <td>4975.0</td>\n",
       "      <td>The total amount committed by investors for th...</td>\n",
       "    </tr>\n",
       "  </tbody>\n",
       "</table>\n",
       "</div>"
      ],
      "text/plain": [
       "              name   dtypes first value  \\\n",
       "0               id   object     1077501   \n",
       "1        member_id  float64   1296599.0   \n",
       "2        loan_amnt  float64      5000.0   \n",
       "3      funded_amnt  float64      5000.0   \n",
       "4  funded_amnt_inv  float64      4975.0   \n",
       "\n",
       "                                         description  \n",
       "0      A unique LC assigned ID for the loan listing.  \n",
       "1   A unique LC assigned Id for the borrower member.  \n",
       "2  The listed amount of the loan applied for by t...  \n",
       "3  The total amount committed to that loan at tha...  \n",
       "4  The total amount committed by investors for th...  "
      ]
     },
     "execution_count": 221,
     "metadata": {},
     "output_type": "execute_result"
    }
   ],
   "source": [
    "loans_2007_dtypes = pd.DataFrame(loans_2007.dtypes,columns=['dtypes']) \n",
    "loans_2007_dtypes = loans_2007_dtypes.reset_index() \n",
    "loans_2007_dtypes['name'] = loans_2007_dtypes['index'] \n",
    "loans_2007_dtypes = loans_2007_dtypes[['name','dtypes']] \n",
    "loans_2007_dtypes['first value'] = loans_2007.loc[0].values \n",
    "preview = loans_2007_dtypes.merge(data_dictionary, on='name',how='left') \n",
    "preview.head()"
   ]
  },
  {
   "cell_type": "markdown",
   "metadata": {},
   "source": [
    "When I printed the shape of loans_2007 earlier, I noticed that it had 56 columns, so I know that this preview DataFrame has 56 rows (one explaining each column in loans_2007).\n",
    "\n",
    "It can be cumbersome to try to explore all the rows of a preview at once, so instead, I'll break it up into three parts and look at a smaller selection of features each time.\n",
    "\n",
    "As I explore the features to better understand each of them, I'll want to pay attention to any column that: leaks information from the future (after the loan has already been funded), doesn't affect the borrower's ability to pay back the loan (e.g. a randomly generated ID value by Lending Club), is formatted poorly, requires more data or a lot of pre-processing to turn into a useful feature, or contains redundant information.\n",
    "\n",
    "These are all things I'll want to be careful about since handling them incorrectly will hurt my analysis in the long run. I need to especially pay close attention to data leakage, which can cause the model to overfit. This is because the model would be learning from features that won't be available when I'm using it to make predictions about future loans.\n",
    "\n",
    "I need to be sure my model is trained using only the data it would have at the point of a loan application.\n",
    "\n",
    "- First Group Of Columns \n",
    "    Let's display the first 19 rows of preview and analyze them:"
   ]
  },
  {
   "cell_type": "code",
   "execution_count": 222,
   "metadata": {},
   "outputs": [
    {
     "data": {
      "text/html": [
       "<div>\n",
       "<style scoped>\n",
       "    .dataframe tbody tr th:only-of-type {\n",
       "        vertical-align: middle;\n",
       "    }\n",
       "\n",
       "    .dataframe tbody tr th {\n",
       "        vertical-align: top;\n",
       "    }\n",
       "\n",
       "    .dataframe thead th {\n",
       "        text-align: right;\n",
       "    }\n",
       "</style>\n",
       "<table border=\"1\" class=\"dataframe\">\n",
       "  <thead>\n",
       "    <tr style=\"text-align: right;\">\n",
       "      <th></th>\n",
       "      <th>name</th>\n",
       "      <th>dtypes</th>\n",
       "      <th>first value</th>\n",
       "      <th>description</th>\n",
       "    </tr>\n",
       "  </thead>\n",
       "  <tbody>\n",
       "    <tr>\n",
       "      <th>0</th>\n",
       "      <td>id</td>\n",
       "      <td>object</td>\n",
       "      <td>1077501</td>\n",
       "      <td>A unique LC assigned ID for the loan listing.</td>\n",
       "    </tr>\n",
       "    <tr>\n",
       "      <th>1</th>\n",
       "      <td>member_id</td>\n",
       "      <td>float64</td>\n",
       "      <td>1296599.0</td>\n",
       "      <td>A unique LC assigned Id for the borrower member.</td>\n",
       "    </tr>\n",
       "    <tr>\n",
       "      <th>2</th>\n",
       "      <td>loan_amnt</td>\n",
       "      <td>float64</td>\n",
       "      <td>5000.0</td>\n",
       "      <td>The listed amount of the loan applied for by t...</td>\n",
       "    </tr>\n",
       "    <tr>\n",
       "      <th>3</th>\n",
       "      <td>funded_amnt</td>\n",
       "      <td>float64</td>\n",
       "      <td>5000.0</td>\n",
       "      <td>The total amount committed to that loan at tha...</td>\n",
       "    </tr>\n",
       "    <tr>\n",
       "      <th>4</th>\n",
       "      <td>funded_amnt_inv</td>\n",
       "      <td>float64</td>\n",
       "      <td>4975.0</td>\n",
       "      <td>The total amount committed by investors for th...</td>\n",
       "    </tr>\n",
       "    <tr>\n",
       "      <th>5</th>\n",
       "      <td>term</td>\n",
       "      <td>object</td>\n",
       "      <td>36 months</td>\n",
       "      <td>The number of payments on the loan. Values are...</td>\n",
       "    </tr>\n",
       "    <tr>\n",
       "      <th>6</th>\n",
       "      <td>int_rate</td>\n",
       "      <td>object</td>\n",
       "      <td>10.65%</td>\n",
       "      <td>Interest Rate on the loan</td>\n",
       "    </tr>\n",
       "    <tr>\n",
       "      <th>7</th>\n",
       "      <td>installment</td>\n",
       "      <td>float64</td>\n",
       "      <td>162.87</td>\n",
       "      <td>The monthly payment owed by the borrower if th...</td>\n",
       "    </tr>\n",
       "    <tr>\n",
       "      <th>8</th>\n",
       "      <td>grade</td>\n",
       "      <td>object</td>\n",
       "      <td>B</td>\n",
       "      <td>LC assigned loan grade</td>\n",
       "    </tr>\n",
       "    <tr>\n",
       "      <th>9</th>\n",
       "      <td>sub_grade</td>\n",
       "      <td>object</td>\n",
       "      <td>B2</td>\n",
       "      <td>LC assigned loan subgrade</td>\n",
       "    </tr>\n",
       "    <tr>\n",
       "      <th>10</th>\n",
       "      <td>emp_title</td>\n",
       "      <td>object</td>\n",
       "      <td>NaN</td>\n",
       "      <td>The job title supplied by the Borrower when ap...</td>\n",
       "    </tr>\n",
       "    <tr>\n",
       "      <th>11</th>\n",
       "      <td>emp_length</td>\n",
       "      <td>object</td>\n",
       "      <td>10+ years</td>\n",
       "      <td>Employment length in years. Possible values ar...</td>\n",
       "    </tr>\n",
       "    <tr>\n",
       "      <th>12</th>\n",
       "      <td>home_ownership</td>\n",
       "      <td>object</td>\n",
       "      <td>RENT</td>\n",
       "      <td>The home ownership status provided by the borr...</td>\n",
       "    </tr>\n",
       "    <tr>\n",
       "      <th>13</th>\n",
       "      <td>annual_inc</td>\n",
       "      <td>float64</td>\n",
       "      <td>24000.0</td>\n",
       "      <td>The self-reported annual income provided by th...</td>\n",
       "    </tr>\n",
       "    <tr>\n",
       "      <th>14</th>\n",
       "      <td>verification_status</td>\n",
       "      <td>object</td>\n",
       "      <td>Verified</td>\n",
       "      <td>Indicates if income was verified by LC, not ve...</td>\n",
       "    </tr>\n",
       "    <tr>\n",
       "      <th>15</th>\n",
       "      <td>issue_d</td>\n",
       "      <td>object</td>\n",
       "      <td>Dec-2011</td>\n",
       "      <td>The month which the loan was funded</td>\n",
       "    </tr>\n",
       "    <tr>\n",
       "      <th>16</th>\n",
       "      <td>loan_status</td>\n",
       "      <td>object</td>\n",
       "      <td>Fully Paid</td>\n",
       "      <td>Current status of the loan</td>\n",
       "    </tr>\n",
       "    <tr>\n",
       "      <th>17</th>\n",
       "      <td>pymnt_plan</td>\n",
       "      <td>object</td>\n",
       "      <td>n</td>\n",
       "      <td>Indicates if a payment plan has been put in pl...</td>\n",
       "    </tr>\n",
       "    <tr>\n",
       "      <th>18</th>\n",
       "      <td>purpose</td>\n",
       "      <td>object</td>\n",
       "      <td>credit_card</td>\n",
       "      <td>A category provided by the borrower for the lo...</td>\n",
       "    </tr>\n",
       "  </tbody>\n",
       "</table>\n",
       "</div>"
      ],
      "text/plain": [
       "                   name   dtypes  first value  \\\n",
       "0                    id   object      1077501   \n",
       "1             member_id  float64    1296599.0   \n",
       "2             loan_amnt  float64       5000.0   \n",
       "3           funded_amnt  float64       5000.0   \n",
       "4       funded_amnt_inv  float64       4975.0   \n",
       "5                  term   object    36 months   \n",
       "6              int_rate   object       10.65%   \n",
       "7           installment  float64       162.87   \n",
       "8                 grade   object            B   \n",
       "9             sub_grade   object           B2   \n",
       "10            emp_title   object          NaN   \n",
       "11           emp_length   object    10+ years   \n",
       "12       home_ownership   object         RENT   \n",
       "13           annual_inc  float64      24000.0   \n",
       "14  verification_status   object     Verified   \n",
       "15              issue_d   object     Dec-2011   \n",
       "16          loan_status   object   Fully Paid   \n",
       "17           pymnt_plan   object            n   \n",
       "18              purpose   object  credit_card   \n",
       "\n",
       "                                          description  \n",
       "0       A unique LC assigned ID for the loan listing.  \n",
       "1    A unique LC assigned Id for the borrower member.  \n",
       "2   The listed amount of the loan applied for by t...  \n",
       "3   The total amount committed to that loan at tha...  \n",
       "4   The total amount committed by investors for th...  \n",
       "5   The number of payments on the loan. Values are...  \n",
       "6                           Interest Rate on the loan  \n",
       "7   The monthly payment owed by the borrower if th...  \n",
       "8                              LC assigned loan grade  \n",
       "9                           LC assigned loan subgrade  \n",
       "10  The job title supplied by the Borrower when ap...  \n",
       "11  Employment length in years. Possible values ar...  \n",
       "12  The home ownership status provided by the borr...  \n",
       "13  The self-reported annual income provided by th...  \n",
       "14  Indicates if income was verified by LC, not ve...  \n",
       "15                The month which the loan was funded  \n",
       "16                         Current status of the loan  \n",
       "17  Indicates if a payment plan has been put in pl...  \n",
       "18  A category provided by the borrower for the lo...  "
      ]
     },
     "execution_count": 222,
     "metadata": {},
     "output_type": "execute_result"
    }
   ],
   "source": [
    "preview[:19]"
   ]
  },
  {
   "cell_type": "markdown",
   "metadata": {},
   "source": [
    " After analyzing the columns and considering the model i am trying to build, I can conclude that the following features can be removed: \n",
    " \n",
    " - id — randomly generated field by LendingClub for unique identification purposes only. \n",
    " - member_id — also randomly generated field by LendingClub for identification purposes only. \n",
    " - funded_amnt — leaks information from the future (after the loan is already started to be funded). \n",
    " - funded_amnt_inv — also leaks data from the future. \n",
    " - sub_grade — contains redundant information that is already in the grade column (more below). \n",
    " - int_rate — also included within the grade column. \n",
    " - emp_title — requires other data and a lot of processing to become potentially useful \n",
    " - issued_d — leaks data from the future. \n",
    " \n",
    " Note: Lending Club uses a borrower's grade and payment term (30 or months) to assign an interest rate (you can read more about Rates & Fees). This causes variations in interest rate within a given grade. \n",
    " \n",
    " What may be useful for our model is to focus on clusters of borrowers instead of individuals. And, that's exactly what grading does — it segments borrowers based on their credit score and other behaviors, which is why I'll will keep the grade column and drop interest int_rate and sub_grade.\n",
    "\n",
    " Let's drop these columns from the DataFrame before moving onto to the next group of columns."
   ]
  },
  {
   "cell_type": "code",
   "execution_count": 223,
   "metadata": {},
   "outputs": [],
   "source": [
    "drop_list = ['id','member_id','funded_amnt','funded_amnt_inv', 'int_rate','sub_grade','emp_title','issue_d'] \n",
    "loans_2007 = loans_2007.drop(drop_list,axis=1)"
   ]
  },
  {
   "cell_type": "markdown",
   "metadata": {},
   "source": [
    "Now I'll move on to the next group of 19 columns (features). "
   ]
  },
  {
   "cell_type": "code",
   "execution_count": 224,
   "metadata": {},
   "outputs": [
    {
     "data": {
      "text/html": [
       "<div>\n",
       "<style scoped>\n",
       "    .dataframe tbody tr th:only-of-type {\n",
       "        vertical-align: middle;\n",
       "    }\n",
       "\n",
       "    .dataframe tbody tr th {\n",
       "        vertical-align: top;\n",
       "    }\n",
       "\n",
       "    .dataframe thead th {\n",
       "        text-align: right;\n",
       "    }\n",
       "</style>\n",
       "<table border=\"1\" class=\"dataframe\">\n",
       "  <thead>\n",
       "    <tr style=\"text-align: right;\">\n",
       "      <th></th>\n",
       "      <th>name</th>\n",
       "      <th>dtypes</th>\n",
       "      <th>first value</th>\n",
       "      <th>description</th>\n",
       "    </tr>\n",
       "  </thead>\n",
       "  <tbody>\n",
       "    <tr>\n",
       "      <th>19</th>\n",
       "      <td>title</td>\n",
       "      <td>object</td>\n",
       "      <td>Computer</td>\n",
       "      <td>The loan title provided by the borrower</td>\n",
       "    </tr>\n",
       "    <tr>\n",
       "      <th>20</th>\n",
       "      <td>zip_code</td>\n",
       "      <td>object</td>\n",
       "      <td>860xx</td>\n",
       "      <td>The first 3 numbers of the zip code provided b...</td>\n",
       "    </tr>\n",
       "    <tr>\n",
       "      <th>21</th>\n",
       "      <td>addr_state</td>\n",
       "      <td>object</td>\n",
       "      <td>AZ</td>\n",
       "      <td>The state provided by the borrower in the loan...</td>\n",
       "    </tr>\n",
       "    <tr>\n",
       "      <th>22</th>\n",
       "      <td>dti</td>\n",
       "      <td>float64</td>\n",
       "      <td>27.65</td>\n",
       "      <td>A ratio calculated using the borrower’s total ...</td>\n",
       "    </tr>\n",
       "    <tr>\n",
       "      <th>23</th>\n",
       "      <td>delinq_2yrs</td>\n",
       "      <td>float64</td>\n",
       "      <td>0.0</td>\n",
       "      <td>The number of 30+ days past-due incidences of ...</td>\n",
       "    </tr>\n",
       "    <tr>\n",
       "      <th>24</th>\n",
       "      <td>earliest_cr_line</td>\n",
       "      <td>object</td>\n",
       "      <td>Jan-1985</td>\n",
       "      <td>The month the borrower's earliest reported cre...</td>\n",
       "    </tr>\n",
       "    <tr>\n",
       "      <th>25</th>\n",
       "      <td>fico_range_low</td>\n",
       "      <td>float64</td>\n",
       "      <td>735.0</td>\n",
       "      <td>The lower boundary range the borrower’s FICO a...</td>\n",
       "    </tr>\n",
       "    <tr>\n",
       "      <th>26</th>\n",
       "      <td>fico_range_high</td>\n",
       "      <td>float64</td>\n",
       "      <td>739.0</td>\n",
       "      <td>The upper boundary range the borrower’s FICO a...</td>\n",
       "    </tr>\n",
       "    <tr>\n",
       "      <th>27</th>\n",
       "      <td>inq_last_6mths</td>\n",
       "      <td>float64</td>\n",
       "      <td>1.0</td>\n",
       "      <td>The number of inquiries in past 6 months (excl...</td>\n",
       "    </tr>\n",
       "    <tr>\n",
       "      <th>28</th>\n",
       "      <td>open_acc</td>\n",
       "      <td>float64</td>\n",
       "      <td>3.0</td>\n",
       "      <td>The number of open credit lines in the borrowe...</td>\n",
       "    </tr>\n",
       "    <tr>\n",
       "      <th>29</th>\n",
       "      <td>pub_rec</td>\n",
       "      <td>float64</td>\n",
       "      <td>0.0</td>\n",
       "      <td>Number of derogatory public records</td>\n",
       "    </tr>\n",
       "    <tr>\n",
       "      <th>30</th>\n",
       "      <td>revol_bal</td>\n",
       "      <td>float64</td>\n",
       "      <td>13648.0</td>\n",
       "      <td>Total credit revolving balance</td>\n",
       "    </tr>\n",
       "    <tr>\n",
       "      <th>31</th>\n",
       "      <td>revol_util</td>\n",
       "      <td>object</td>\n",
       "      <td>83.7%</td>\n",
       "      <td>Revolving line utilization rate, or the amount...</td>\n",
       "    </tr>\n",
       "    <tr>\n",
       "      <th>32</th>\n",
       "      <td>total_acc</td>\n",
       "      <td>float64</td>\n",
       "      <td>9.0</td>\n",
       "      <td>The total number of credit lines currently in ...</td>\n",
       "    </tr>\n",
       "    <tr>\n",
       "      <th>33</th>\n",
       "      <td>initial_list_status</td>\n",
       "      <td>object</td>\n",
       "      <td>f</td>\n",
       "      <td>The initial listing status of the loan. Possib...</td>\n",
       "    </tr>\n",
       "    <tr>\n",
       "      <th>34</th>\n",
       "      <td>out_prncp</td>\n",
       "      <td>float64</td>\n",
       "      <td>0.0</td>\n",
       "      <td>Remaining outstanding principal for total amou...</td>\n",
       "    </tr>\n",
       "    <tr>\n",
       "      <th>35</th>\n",
       "      <td>out_prncp_inv</td>\n",
       "      <td>float64</td>\n",
       "      <td>0.0</td>\n",
       "      <td>Remaining outstanding principal for portion of...</td>\n",
       "    </tr>\n",
       "    <tr>\n",
       "      <th>36</th>\n",
       "      <td>total_pymnt</td>\n",
       "      <td>float64</td>\n",
       "      <td>5863.155187</td>\n",
       "      <td>Payments received to date for total amount funded</td>\n",
       "    </tr>\n",
       "    <tr>\n",
       "      <th>37</th>\n",
       "      <td>total_pymnt_inv</td>\n",
       "      <td>float64</td>\n",
       "      <td>5833.84</td>\n",
       "      <td>Payments received to date for portion of total...</td>\n",
       "    </tr>\n",
       "  </tbody>\n",
       "</table>\n",
       "</div>"
      ],
      "text/plain": [
       "                   name   dtypes  first value  \\\n",
       "19                title   object     Computer   \n",
       "20             zip_code   object        860xx   \n",
       "21           addr_state   object           AZ   \n",
       "22                  dti  float64        27.65   \n",
       "23          delinq_2yrs  float64          0.0   \n",
       "24     earliest_cr_line   object     Jan-1985   \n",
       "25       fico_range_low  float64        735.0   \n",
       "26      fico_range_high  float64        739.0   \n",
       "27       inq_last_6mths  float64          1.0   \n",
       "28             open_acc  float64          3.0   \n",
       "29              pub_rec  float64          0.0   \n",
       "30            revol_bal  float64      13648.0   \n",
       "31           revol_util   object        83.7%   \n",
       "32            total_acc  float64          9.0   \n",
       "33  initial_list_status   object            f   \n",
       "34            out_prncp  float64          0.0   \n",
       "35        out_prncp_inv  float64          0.0   \n",
       "36          total_pymnt  float64  5863.155187   \n",
       "37      total_pymnt_inv  float64      5833.84   \n",
       "\n",
       "                                          description  \n",
       "19            The loan title provided by the borrower  \n",
       "20  The first 3 numbers of the zip code provided b...  \n",
       "21  The state provided by the borrower in the loan...  \n",
       "22  A ratio calculated using the borrower’s total ...  \n",
       "23  The number of 30+ days past-due incidences of ...  \n",
       "24  The month the borrower's earliest reported cre...  \n",
       "25  The lower boundary range the borrower’s FICO a...  \n",
       "26  The upper boundary range the borrower’s FICO a...  \n",
       "27  The number of inquiries in past 6 months (excl...  \n",
       "28  The number of open credit lines in the borrowe...  \n",
       "29                Number of derogatory public records  \n",
       "30                     Total credit revolving balance  \n",
       "31  Revolving line utilization rate, or the amount...  \n",
       "32  The total number of credit lines currently in ...  \n",
       "33  The initial listing status of the loan. Possib...  \n",
       "34  Remaining outstanding principal for total amou...  \n",
       "35  Remaining outstanding principal for portion of...  \n",
       "36  Payments received to date for total amount funded  \n",
       "37  Payments received to date for portion of total...  "
      ]
     },
     "execution_count": 224,
     "metadata": {},
     "output_type": "execute_result"
    }
   ],
   "source": [
    "preview[19:38]"
   ]
  },
  {
   "cell_type": "markdown",
   "metadata": {},
   "source": [
    " For now, reviewing our second group of columns, I can further refine the data set by dropping the following columns: \n",
    "\n",
    " - zip_code - mostly redundant with the 'addr_state' column since only the first 3 digits of the 5 digit zip code are visible. \n",
    " - out_prncp - leaks data from the future. \n",
    " - out_prncp_inv - also leaks data from the future. \n",
    " - total_pymnt - also leaks data from the future. \n",
    " - total_pymnt_inv - also leaks data from the future. \n",
    " \n",
    " Removing these 5 columns from the DataFrame:"
   ]
  },
  {
   "cell_type": "code",
   "execution_count": 225,
   "metadata": {},
   "outputs": [],
   "source": [
    "drop_cols = [ 'zip_code','out_prncp','out_prncp_inv', 'total_pymnt','total_pymnt_inv'] \n",
    "loans_2007 = loans_2007.drop(drop_cols, axis=1)"
   ]
  },
  {
   "cell_type": "markdown",
   "metadata": {},
   "source": [
    "Now the remaining columns:"
   ]
  },
  {
   "cell_type": "code",
   "execution_count": 226,
   "metadata": {},
   "outputs": [
    {
     "data": {
      "text/html": [
       "<div>\n",
       "<style scoped>\n",
       "    .dataframe tbody tr th:only-of-type {\n",
       "        vertical-align: middle;\n",
       "    }\n",
       "\n",
       "    .dataframe tbody tr th {\n",
       "        vertical-align: top;\n",
       "    }\n",
       "\n",
       "    .dataframe thead th {\n",
       "        text-align: right;\n",
       "    }\n",
       "</style>\n",
       "<table border=\"1\" class=\"dataframe\">\n",
       "  <thead>\n",
       "    <tr style=\"text-align: right;\">\n",
       "      <th></th>\n",
       "      <th>name</th>\n",
       "      <th>dtypes</th>\n",
       "      <th>first value</th>\n",
       "      <th>description</th>\n",
       "    </tr>\n",
       "  </thead>\n",
       "  <tbody>\n",
       "    <tr>\n",
       "      <th>38</th>\n",
       "      <td>total_rec_prncp</td>\n",
       "      <td>float64</td>\n",
       "      <td>5000.0</td>\n",
       "      <td>Principal received to date</td>\n",
       "    </tr>\n",
       "    <tr>\n",
       "      <th>39</th>\n",
       "      <td>total_rec_int</td>\n",
       "      <td>float64</td>\n",
       "      <td>863.16</td>\n",
       "      <td>Interest received to date</td>\n",
       "    </tr>\n",
       "    <tr>\n",
       "      <th>40</th>\n",
       "      <td>total_rec_late_fee</td>\n",
       "      <td>float64</td>\n",
       "      <td>0.0</td>\n",
       "      <td>Late fees received to date</td>\n",
       "    </tr>\n",
       "    <tr>\n",
       "      <th>41</th>\n",
       "      <td>recoveries</td>\n",
       "      <td>float64</td>\n",
       "      <td>0.0</td>\n",
       "      <td>post charge off gross recovery</td>\n",
       "    </tr>\n",
       "    <tr>\n",
       "      <th>42</th>\n",
       "      <td>collection_recovery_fee</td>\n",
       "      <td>float64</td>\n",
       "      <td>0.0</td>\n",
       "      <td>post charge off collection fee</td>\n",
       "    </tr>\n",
       "    <tr>\n",
       "      <th>43</th>\n",
       "      <td>last_pymnt_d</td>\n",
       "      <td>object</td>\n",
       "      <td>Jan-2015</td>\n",
       "      <td>Last month payment was received</td>\n",
       "    </tr>\n",
       "    <tr>\n",
       "      <th>44</th>\n",
       "      <td>last_pymnt_amnt</td>\n",
       "      <td>float64</td>\n",
       "      <td>171.62</td>\n",
       "      <td>Last total payment amount received</td>\n",
       "    </tr>\n",
       "    <tr>\n",
       "      <th>45</th>\n",
       "      <td>last_credit_pull_d</td>\n",
       "      <td>object</td>\n",
       "      <td>Sep-2016</td>\n",
       "      <td>The most recent month LC pulled credit for thi...</td>\n",
       "    </tr>\n",
       "    <tr>\n",
       "      <th>46</th>\n",
       "      <td>last_fico_range_high</td>\n",
       "      <td>float64</td>\n",
       "      <td>744.0</td>\n",
       "      <td>The upper boundary range the borrower’s last F...</td>\n",
       "    </tr>\n",
       "    <tr>\n",
       "      <th>47</th>\n",
       "      <td>last_fico_range_low</td>\n",
       "      <td>float64</td>\n",
       "      <td>740.0</td>\n",
       "      <td>The lower boundary range the borrower’s last F...</td>\n",
       "    </tr>\n",
       "    <tr>\n",
       "      <th>48</th>\n",
       "      <td>collections_12_mths_ex_med</td>\n",
       "      <td>float64</td>\n",
       "      <td>0.0</td>\n",
       "      <td>Number of collections in 12 months excluding m...</td>\n",
       "    </tr>\n",
       "    <tr>\n",
       "      <th>49</th>\n",
       "      <td>policy_code</td>\n",
       "      <td>float64</td>\n",
       "      <td>1.0</td>\n",
       "      <td>publicly available policy_code=1\\nnew products...</td>\n",
       "    </tr>\n",
       "    <tr>\n",
       "      <th>50</th>\n",
       "      <td>application_type</td>\n",
       "      <td>object</td>\n",
       "      <td>INDIVIDUAL</td>\n",
       "      <td>Indicates whether the loan is an individual ap...</td>\n",
       "    </tr>\n",
       "    <tr>\n",
       "      <th>51</th>\n",
       "      <td>acc_now_delinq</td>\n",
       "      <td>float64</td>\n",
       "      <td>0.0</td>\n",
       "      <td>The number of accounts on which the borrower i...</td>\n",
       "    </tr>\n",
       "    <tr>\n",
       "      <th>52</th>\n",
       "      <td>chargeoff_within_12_mths</td>\n",
       "      <td>float64</td>\n",
       "      <td>0.0</td>\n",
       "      <td>Number of charge-offs within 12 months</td>\n",
       "    </tr>\n",
       "    <tr>\n",
       "      <th>53</th>\n",
       "      <td>delinq_amnt</td>\n",
       "      <td>float64</td>\n",
       "      <td>0.0</td>\n",
       "      <td>The past-due amount owed for the accounts on w...</td>\n",
       "    </tr>\n",
       "    <tr>\n",
       "      <th>54</th>\n",
       "      <td>pub_rec_bankruptcies</td>\n",
       "      <td>float64</td>\n",
       "      <td>0.0</td>\n",
       "      <td>Number of public record bankruptcies</td>\n",
       "    </tr>\n",
       "    <tr>\n",
       "      <th>55</th>\n",
       "      <td>tax_liens</td>\n",
       "      <td>float64</td>\n",
       "      <td>0.0</td>\n",
       "      <td>Number of tax liens</td>\n",
       "    </tr>\n",
       "  </tbody>\n",
       "</table>\n",
       "</div>"
      ],
      "text/plain": [
       "                          name   dtypes first value  \\\n",
       "38             total_rec_prncp  float64      5000.0   \n",
       "39               total_rec_int  float64      863.16   \n",
       "40          total_rec_late_fee  float64         0.0   \n",
       "41                  recoveries  float64         0.0   \n",
       "42     collection_recovery_fee  float64         0.0   \n",
       "43                last_pymnt_d   object    Jan-2015   \n",
       "44             last_pymnt_amnt  float64      171.62   \n",
       "45          last_credit_pull_d   object    Sep-2016   \n",
       "46        last_fico_range_high  float64       744.0   \n",
       "47         last_fico_range_low  float64       740.0   \n",
       "48  collections_12_mths_ex_med  float64         0.0   \n",
       "49                 policy_code  float64         1.0   \n",
       "50            application_type   object  INDIVIDUAL   \n",
       "51              acc_now_delinq  float64         0.0   \n",
       "52    chargeoff_within_12_mths  float64         0.0   \n",
       "53                 delinq_amnt  float64         0.0   \n",
       "54        pub_rec_bankruptcies  float64         0.0   \n",
       "55                   tax_liens  float64         0.0   \n",
       "\n",
       "                                          description  \n",
       "38                         Principal received to date  \n",
       "39                          Interest received to date  \n",
       "40                         Late fees received to date  \n",
       "41                     post charge off gross recovery  \n",
       "42                     post charge off collection fee  \n",
       "43                    Last month payment was received  \n",
       "44                 Last total payment amount received  \n",
       "45  The most recent month LC pulled credit for thi...  \n",
       "46  The upper boundary range the borrower’s last F...  \n",
       "47  The lower boundary range the borrower’s last F...  \n",
       "48  Number of collections in 12 months excluding m...  \n",
       "49  publicly available policy_code=1\\nnew products...  \n",
       "50  Indicates whether the loan is an individual ap...  \n",
       "51  The number of accounts on which the borrower i...  \n",
       "52             Number of charge-offs within 12 months  \n",
       "53  The past-due amount owed for the accounts on w...  \n",
       "54               Number of public record bankruptcies  \n",
       "55                                Number of tax liens  "
      ]
     },
     "execution_count": 226,
     "metadata": {},
     "output_type": "execute_result"
    }
   ],
   "source": [
    "preview[38:]"
   ]
  },
  {
   "cell_type": "markdown",
   "metadata": {},
   "source": [
    " In this last group of columns, dropping all the columns which leak data from the future: \n",
    " - total_rec_prncp \n",
    " - total_rec_int \n",
    " - total_rec_late_fee \n",
    " - recoveries \n",
    " - collection_recovery_fee \n",
    " - last_pymnt_d \n",
    " - last_pymnt_amnt "
   ]
  },
  {
   "cell_type": "code",
   "execution_count": 227,
   "metadata": {},
   "outputs": [],
   "source": [
    "drop_cols = ['total_rec_prncp','total_rec_int', 'total_rec_late_fee','recoveries', 'collection_recovery_fee', 'last_pymnt_d', 'last_pymnt_amnt'] \n",
    "loans_2007 = loans_2007.drop(drop_cols, axis=1) "
   ]
  },
  {
   "cell_type": "markdown",
   "metadata": {},
   "source": [
    "Great! now the data is going to be much more useful for building a model, since it won't have to waste time processing irrelevant data and it won't be \"cheating\" by analyzing information from the future that gives away the loan's outcome. \n",
    "\n",
    "-**Investigating FICO Score Columns**\n",
    " - It's worth exploring the fico_range_low, fico_range_high, last_fico_range_low, and last_fico_range_high columns. \n",
    " \n",
    " - FICO scores are a credit score: a number used by banks and credit cards to represent how credit-worthy a person is. While there are a few types of credit scores used in the United States, the FICO score is the best known and most widely used. \n",
    " \n",
    " - When a borrower applies for a loan, LendingClub gets the borrower's credit score from FICO — they are given a lower and upper limit of the range that the borrowers score belongs to, and they store those values as fico_range_low, fico_range_high. After that, any updates to the borrowers score are recorded as last_fico_range_low, and last_fico_range_high.\n",
    "\n",
    " - FICO scores continue to be updated by LendingClub after a loan is funded. In other words, while we can use the initial FICO scores (fico_range_low and fico_range_high) — those would be available as part of a borrower's applicaton — we cannot use last_fico_range_low, and last_fico_range_high, as LendingClub may have updated these after the borrower's application.\n",
    "\n",
    " - \"fico_range_low\", \"fico_range_high\" are recorded at the time of loan origination, while the \"last_fico_range_low\" and \"last_fico_range_high\" are regularly updated by Lending Club. So \"last_fico_range_low\" and \"last_fico_range_high\" will leak info from the future for our model so it's better to drop \"last_fico_range_low\" and \"last_fico_range_high\" columns.\n",
    "\n",
    "\n",
    "Now, I can go ahead and drop \"last_fico_range_low\" and \"last_fico_range_high\" columns."
   ]
  },
  {
   "cell_type": "code",
   "execution_count": 228,
   "metadata": {},
   "outputs": [
    {
     "data": {
      "text/plain": [
       "(42538, 34)"
      ]
     },
     "execution_count": 228,
     "metadata": {},
     "output_type": "execute_result"
    }
   ],
   "source": [
    "drop_cols = ['last_fico_range_low', 'last_fico_range_high'] \n",
    "loans_2007 = loans_2007.drop(drop_cols, axis=1) \n",
    "loans_2007.shape"
   ]
  },
  {
   "cell_type": "markdown",
   "metadata": {},
   "source": [
    "Next Step is to explore \"fico_range_low\" and \"fico_range_high\". I want to see the difference between those two values. If the difference is small on avgerage then I can take average of the two columns as 'fico_score'."
   ]
  },
  {
   "cell_type": "code",
   "execution_count": 229,
   "metadata": {},
   "outputs": [
    {
     "data": {
      "text/plain": [
       "count    42535.0\n",
       "mean         4.0\n",
       "std          0.0\n",
       "min          4.0\n",
       "25%          4.0\n",
       "50%          4.0\n",
       "75%          4.0\n",
       "max          4.0\n",
       "Name: fico_diff, dtype: float64"
      ]
     },
     "execution_count": 229,
     "metadata": {},
     "output_type": "execute_result"
    }
   ],
   "source": [
    "# Creating a temporary data frame to store the values\n",
    "temp_df = pd.DataFrame()\n",
    "\n",
    "# Calculating difference between \"fico_range_low\" and \"fico_range_high\" columns\n",
    "temp_df['fico_diff'] = loans_2007[\"fico_range_high\"] - loans_2007[\"fico_range_low\"]\n",
    "\n",
    "# Statistical values\n",
    "temp_df['fico_diff'].describe()"
   ]
  },
  {
   "cell_type": "markdown",
   "metadata": {},
   "source": [
    "As the maximum difference is only 4, I can go ahead and take average of both columns as 'fico_score'"
   ]
  },
  {
   "cell_type": "code",
   "execution_count": 230,
   "metadata": {},
   "outputs": [
    {
     "data": {
      "text/plain": [
       "count    42535.000000\n",
       "mean       715.052545\n",
       "std         36.188439\n",
       "min        612.000000\n",
       "25%        687.000000\n",
       "50%        712.000000\n",
       "75%        742.000000\n",
       "max        827.000000\n",
       "Name: fico_score, dtype: float64"
      ]
     },
     "execution_count": 230,
     "metadata": {},
     "output_type": "execute_result"
    }
   ],
   "source": [
    "loans_2007[\"fico_score\"] = round(loans_2007[\"fico_range_high\"] + loans_2007[\"fico_range_low\"]) / 2\n",
    "loans_2007['fico_score'].describe()"
   ]
  },
  {
   "cell_type": "code",
   "execution_count": 231,
   "metadata": {},
   "outputs": [],
   "source": [
    "# Dropping 'fico_range_high' and 'fico_range_low'\n",
    "loans_2007.drop(['fico_range_high', 'fico_range_low'], axis=1, inplace=True)"
   ]
  },
  {
   "cell_type": "markdown",
   "metadata": {},
   "source": [
    "Till now I have been able to bring down total features from 56 to 34 without losing any meaningfull feature for our ML model.\n",
    "\n",
    "Now to decide which will be the Target Column for modeling. Main goal here is to predict who will pay off a loan and who will default, and the target column will reflects this. \n",
    "\n",
    "From the description of columns in the preview DataFrame I can see that loan_status is the only field in the main data set that describes a loan status, so I'll use this column as the target column."
   ]
  },
  {
   "cell_type": "code",
   "execution_count": 232,
   "metadata": {},
   "outputs": [
    {
     "data": {
      "text/html": [
       "<div>\n",
       "<style scoped>\n",
       "    .dataframe tbody tr th:only-of-type {\n",
       "        vertical-align: middle;\n",
       "    }\n",
       "\n",
       "    .dataframe tbody tr th {\n",
       "        vertical-align: top;\n",
       "    }\n",
       "\n",
       "    .dataframe thead th {\n",
       "        text-align: right;\n",
       "    }\n",
       "</style>\n",
       "<table border=\"1\" class=\"dataframe\">\n",
       "  <thead>\n",
       "    <tr style=\"text-align: right;\">\n",
       "      <th></th>\n",
       "      <th>name</th>\n",
       "      <th>dtypes</th>\n",
       "      <th>first value</th>\n",
       "      <th>description</th>\n",
       "    </tr>\n",
       "  </thead>\n",
       "  <tbody>\n",
       "    <tr>\n",
       "      <th>16</th>\n",
       "      <td>loan_status</td>\n",
       "      <td>object</td>\n",
       "      <td>Fully Paid</td>\n",
       "      <td>Current status of the loan</td>\n",
       "    </tr>\n",
       "  </tbody>\n",
       "</table>\n",
       "</div>"
      ],
      "text/plain": [
       "           name  dtypes first value                 description\n",
       "16  loan_status  object  Fully Paid  Current status of the loan"
      ]
     },
     "execution_count": 232,
     "metadata": {},
     "output_type": "execute_result"
    }
   ],
   "source": [
    "preview[preview.name == 'loan_status']"
   ]
  },
  {
   "cell_type": "markdown",
   "metadata": {},
   "source": [
    "Currently, this column contains text values that need to be converted to numerical values to be able use for training a model. \n",
    "\n",
    "I'll explore the different values in this column and come up with a strategy for converting them. I'll use the DataFrame method value_counts() to return the frequency of the unique values in the loan_status column."
   ]
  },
  {
   "cell_type": "code",
   "execution_count": 233,
   "metadata": {},
   "outputs": [
    {
     "data": {
      "text/plain": [
       "loan_status\n",
       "Fully Paid                                             33586\n",
       "Charged Off                                             5653\n",
       "Does not meet the credit policy. Status:Fully Paid      1988\n",
       "Does not meet the credit policy. Status:Charged Off      761\n",
       "Current                                                  513\n",
       "In Grace Period                                           16\n",
       "Late (31-120 days)                                        12\n",
       "Late (16-30 days)                                          5\n",
       "Default                                                    1\n",
       "Name: count, dtype: int64"
      ]
     },
     "execution_count": 233,
     "metadata": {},
     "output_type": "execute_result"
    }
   ],
   "source": [
    "loans_2007['loan_status'].value_counts()"
   ]
  },
  {
   "cell_type": "markdown",
   "metadata": {},
   "source": [
    "It has 9 different possible values. Information regarding these can be found on lending club website and also on various forums.\n",
    "\n",
    "Below, I'll pull that data together in a table below so I can see the unique values, their frequency in the data set, and get a clearer idea of what each means:"
   ]
  },
  {
   "cell_type": "code",
   "execution_count": 234,
   "metadata": {},
   "outputs": [],
   "source": [
    "meaning = [ \"Loan has been fully paid off.\",\n",
    "            \"Loan for which there is no longer a reasonable expectation of further payments.\",\n",
    "            \"While the loan was paid off, the loan application today would no longer meet the credit policy and wouldn't be approved on to the marketplace.\", \n",
    "            \"While the loan was charged off, the loan application today would no longer meet the credit policy and wouldn't be approved on to the marketplace.\", \n",
    "            \"Loan is up to date on current payments.\", \n",
    "            \"The loan is past due but still in the grace period of 15 days.\", \n",
    "            \"Loan hasn't been paid in 31 to 120 days (late on the current payment).\", \n",
    "            \"Loan hasn't been paid in 16 to 30 days (late on the current payment).\", \n",
    "            \"Loan is defaulted on and no payment has been made for more than 121 days.\"] "
   ]
  },
  {
   "cell_type": "code",
   "execution_count": 235,
   "metadata": {},
   "outputs": [
    {
     "data": {
      "text/html": [
       "<div>\n",
       "<style scoped>\n",
       "    .dataframe tbody tr th:only-of-type {\n",
       "        vertical-align: middle;\n",
       "    }\n",
       "\n",
       "    .dataframe tbody tr th {\n",
       "        vertical-align: top;\n",
       "    }\n",
       "\n",
       "    .dataframe thead th {\n",
       "        text-align: right;\n",
       "    }\n",
       "</style>\n",
       "<table border=\"1\" class=\"dataframe\">\n",
       "  <thead>\n",
       "    <tr style=\"text-align: right;\">\n",
       "      <th></th>\n",
       "      <th>Loan Status</th>\n",
       "      <th>Count</th>\n",
       "      <th>Meaning</th>\n",
       "    </tr>\n",
       "  </thead>\n",
       "  <tbody>\n",
       "    <tr>\n",
       "      <th>0</th>\n",
       "      <td>Fully Paid</td>\n",
       "      <td>33586</td>\n",
       "      <td>Loan has been fully paid off.</td>\n",
       "    </tr>\n",
       "    <tr>\n",
       "      <th>1</th>\n",
       "      <td>Charged Off</td>\n",
       "      <td>5653</td>\n",
       "      <td>Loan for which there is no longer a reasonable...</td>\n",
       "    </tr>\n",
       "    <tr>\n",
       "      <th>2</th>\n",
       "      <td>Does not meet the credit policy. Status:Fully ...</td>\n",
       "      <td>1988</td>\n",
       "      <td>While the loan was paid off, the loan applicat...</td>\n",
       "    </tr>\n",
       "    <tr>\n",
       "      <th>3</th>\n",
       "      <td>Does not meet the credit policy. Status:Charge...</td>\n",
       "      <td>761</td>\n",
       "      <td>While the loan was charged off, the loan appli...</td>\n",
       "    </tr>\n",
       "    <tr>\n",
       "      <th>4</th>\n",
       "      <td>Current</td>\n",
       "      <td>513</td>\n",
       "      <td>Loan is up to date on current payments.</td>\n",
       "    </tr>\n",
       "    <tr>\n",
       "      <th>5</th>\n",
       "      <td>In Grace Period</td>\n",
       "      <td>16</td>\n",
       "      <td>The loan is past due but still in the grace pe...</td>\n",
       "    </tr>\n",
       "    <tr>\n",
       "      <th>6</th>\n",
       "      <td>Late (31-120 days)</td>\n",
       "      <td>12</td>\n",
       "      <td>Loan hasn't been paid in 31 to 120 days (late ...</td>\n",
       "    </tr>\n",
       "    <tr>\n",
       "      <th>7</th>\n",
       "      <td>Late (16-30 days)</td>\n",
       "      <td>5</td>\n",
       "      <td>Loan hasn't been paid in 16 to 30 days (late o...</td>\n",
       "    </tr>\n",
       "    <tr>\n",
       "      <th>8</th>\n",
       "      <td>Default</td>\n",
       "      <td>1</td>\n",
       "      <td>Loan is defaulted on and no payment has been m...</td>\n",
       "    </tr>\n",
       "  </tbody>\n",
       "</table>\n",
       "</div>"
      ],
      "text/plain": [
       "                                         Loan Status  Count  \\\n",
       "0                                         Fully Paid  33586   \n",
       "1                                        Charged Off   5653   \n",
       "2  Does not meet the credit policy. Status:Fully ...   1988   \n",
       "3  Does not meet the credit policy. Status:Charge...    761   \n",
       "4                                            Current    513   \n",
       "5                                    In Grace Period     16   \n",
       "6                                 Late (31-120 days)     12   \n",
       "7                                  Late (16-30 days)      5   \n",
       "8                                            Default      1   \n",
       "\n",
       "                                             Meaning  \n",
       "0                      Loan has been fully paid off.  \n",
       "1  Loan for which there is no longer a reasonable...  \n",
       "2  While the loan was paid off, the loan applicat...  \n",
       "3  While the loan was charged off, the loan appli...  \n",
       "4            Loan is up to date on current payments.  \n",
       "5  The loan is past due but still in the grace pe...  \n",
       "6  Loan hasn't been paid in 31 to 120 days (late ...  \n",
       "7  Loan hasn't been paid in 16 to 30 days (late o...  \n",
       "8  Loan is defaulted on and no payment has been m...  "
      ]
     },
     "execution_count": 235,
     "metadata": {},
     "output_type": "execute_result"
    }
   ],
   "source": [
    "status, count = loans_2007[\"loan_status\"].value_counts().index, loans_2007[\"loan_status\"].value_counts().values \n",
    "loan_statuses_explanation = pd.DataFrame({'Loan Status': status,'Count': count,'Meaning': meaning})[['Loan Status','Count','Meaning']]\n",
    "loan_statuses_explanation"
   ]
  },
  {
   "cell_type": "markdown",
   "metadata": {},
   "source": [
    "Remember, the goal is to build a machine learning model that can learn from past loans and try to predict which loans will be paid off and which won't. \n",
    "\n",
    "From the above table, only the Fully Paid and Charged Off values describe the final outcome of a loan. The other values describe loans that are still ongoing, and even though some loans are late on payments, I can't jump the gun and classify them as Charged Off. \n",
    "\n",
    "Also, while the Default status resembles the Charged Off status, in LendingClub's eyes, loans that are charged off have essentially no chance of being repaid, while defaulted loans have a small chance. Therefore, i will use only samples where the loan_status column is 'Fully Paid' or 'Charged Off'. \n",
    "\n",
    "I am not interested in any statuses that indicate that the loan is ongoing or in progress, because predicting that something is in progress doesn't tell anything. \n",
    "\n",
    "I am interested in being able to predict which of 'Fully Paid' or 'Charged Off' a loan will fall under, so I can treat the problem as binary classification. \n",
    "\n",
    "So i will remove all the loans that don't contain either 'Fully Paid' or 'Charged Off' as the loan's status and then transform the 'Fully Paid' values to 1 for the positive case and the 'Charged Off' values to 0 for the negative case. \n",
    "\n",
    "This will mean that out of the ~42,000 rows i'll be removing just over 3,000. \n",
    " \n",
    "There are few different ways to transform all of the values in a column, I'll use the DataFrame method \"replace()\"."
   ]
  },
  {
   "cell_type": "code",
   "execution_count": 236,
   "metadata": {},
   "outputs": [
    {
     "name": "stderr",
     "output_type": "stream",
     "text": [
      "C:\\Users\\LENOVO\\AppData\\Local\\Temp\\ipykernel_8676\\2294179104.py:3: FutureWarning: Downcasting behavior in `replace` is deprecated and will be removed in a future version. To retain the old behavior, explicitly call `result.infer_objects(copy=False)`. To opt-in to the future behavior, set `pd.set_option('future.no_silent_downcasting', True)`\n",
      "  filtered_loans = filtered_loans.replace(mapping_dictionary)\n"
     ]
    }
   ],
   "source": [
    "filtered_loans = loans_2007[(loans_2007[\"loan_status\"] == \"Fully Paid\") | (loans_2007[\"loan_status\"] == \"Charged Off\")] \n",
    "mapping_dictionary = {\"loan_status\":{ \"Fully Paid\": 1, \"Charged Off\": 0}} \n",
    "filtered_loans = filtered_loans.replace(mapping_dictionary) "
   ]
  },
  {
   "cell_type": "code",
   "execution_count": 237,
   "metadata": {},
   "outputs": [
    {
     "data": {
      "text/plain": [
       "array([1, 0], dtype=int64)"
      ]
     },
     "execution_count": 237,
     "metadata": {},
     "output_type": "execute_result"
    }
   ],
   "source": [
    "filtered_loans['loan_status'].unique()"
   ]
  },
  {
   "cell_type": "code",
   "execution_count": 238,
   "metadata": {},
   "outputs": [
    {
     "data": {
      "image/png": "[encoded data removed]",
      "text/plain": [
       "<Figure size 1400x700 with 2 Axes>"
      ]
     },
     "metadata": {},
     "output_type": "display_data"
    }
   ],
   "source": [
    "fig, axs = plt.subplots(1,2,figsize=(14,7)) \n",
    "sns.countplot(x='loan_status',data=filtered_loans,ax=axs[0]) \n",
    "axs[0].set_title(\"Frequency of each Loan Status\") \n",
    "filtered_loans.loan_status.value_counts().plot(x=None,y=None, kind='pie', ax=axs[1],autopct= '%0.1f').set_title(\"Percentage of each Loan status\") \n",
    "plt.show()"
   ]
  },
  {
   "cell_type": "code",
   "execution_count": 239,
   "metadata": {},
   "outputs": [],
   "source": [
    "loans_2007 = filtered_loans"
   ]
  },
  {
   "cell_type": "markdown",
   "metadata": {},
   "source": [
    "I can see that 85.6% of the borrowers in this data set paid of their loan while 14.4% defaulted.\n",
    "\n",
    "As my goal is to build a model which can identify these defaulters, I am more interested in these 14.4% defaulters.\n",
    "\n",
    "To increase profits the model must identify these defaulters, so I'll continue cleaning the data with an eye towards building a model that can identify likely defaulters at the point of application.\n"
   ]
  },
  {
   "cell_type": "markdown",
   "metadata": {},
   "source": [
    "**Moving forward**\n",
    "\n",
    "I'll Remove Columns with only One Unique Value. These columns won't be useful for the model since they don't add any information to each loan application. \n",
    "\n",
    "In addition, removing these columns will reduce the number of columns I'll need to explore further in the next stage. \n",
    "\n",
    "The pandas Series method nunique() returns the number of unique values, excluding any null values. I will apply this method across the data set to remove these columns in one easy step. "
   ]
  },
  {
   "cell_type": "code",
   "execution_count": 240,
   "metadata": {},
   "outputs": [],
   "source": [
    "loans_2007 = loans_2007.loc[:,loans_2007.apply(pd.Series.nunique) != 1]"
   ]
  },
  {
   "cell_type": "markdown",
   "metadata": {},
   "source": [
    "Again, there may be some columns with more than one unique value, but one value that has insignificant frequency in the data set. \n",
    "Dropping any columns with unique values that appear fewer than four times:"
   ]
  },
  {
   "cell_type": "code",
   "execution_count": 241,
   "metadata": {},
   "outputs": [
    {
     "name": "stdout",
     "output_type": "stream",
     "text": [
      "term\n",
      "36 months    29096\n",
      "60 months    10143\n",
      "Name: count, dtype: int64\n",
      "verification_status\n",
      "Not Verified       16845\n",
      "Verified           12526\n",
      "Source Verified     9868\n",
      "Name: count, dtype: int64\n",
      "loan_status\n",
      "1    33586\n",
      "0     5653\n",
      "Name: count, dtype: int64\n",
      "pymnt_plan\n",
      "n    39238\n",
      "y        1\n",
      "Name: count, dtype: int64\n"
     ]
    }
   ],
   "source": [
    "for col in loans_2007.columns: \n",
    "    if (len(loans_2007[col].unique()) < 4): \n",
    "        print(loans_2007[col].value_counts()) "
   ]
  },
  {
   "cell_type": "markdown",
   "metadata": {},
   "source": [
    "The payment plan column (pymnt_plan) has two unique values, 'y' and 'n', with 'y' occurring only once. So droping this column:"
   ]
  },
  {
   "cell_type": "code",
   "execution_count": 242,
   "metadata": {},
   "outputs": [
    {
     "data": {
      "text/plain": [
       "Index(['loan_amnt', 'term', 'installment', 'grade', 'emp_length',\n",
       "       'home_ownership', 'annual_inc', 'verification_status', 'loan_status',\n",
       "       'pymnt_plan', 'purpose', 'title', 'addr_state', 'dti', 'delinq_2yrs',\n",
       "       'earliest_cr_line', 'inq_last_6mths', 'open_acc', 'pub_rec',\n",
       "       'revol_bal', 'revol_util', 'total_acc', 'last_credit_pull_d',\n",
       "       'pub_rec_bankruptcies', 'fico_score'],\n",
       "      dtype='object')"
      ]
     },
     "execution_count": 242,
     "metadata": {},
     "output_type": "execute_result"
    }
   ],
   "source": [
    "loans_2007.columns"
   ]
  },
  {
   "cell_type": "markdown",
   "metadata": {},
   "source": [
    "I will drop 'addr_state' column as it contains address state information and there are alot of states and thus won't provide any pattern"
   ]
  },
  {
   "cell_type": "code",
   "execution_count": 243,
   "metadata": {},
   "outputs": [
    {
     "name": "stderr",
     "output_type": "stream",
     "text": [
      "C:\\Users\\LENOVO\\AppData\\Local\\Temp\\ipykernel_8676\\4136515727.py:1: SettingWithCopyWarning: \n",
      "A value is trying to be set on a copy of a slice from a DataFrame\n",
      "\n",
      "See the caveats in the documentation: https://pandas.pydata.org/pandas-docs/stable/user_guide/indexing.html#returning-a-view-versus-a-copy\n",
      "  loans_2007.drop('addr_state', axis = 1, inplace=True)\n"
     ]
    }
   ],
   "source": [
    "loans_2007.drop('addr_state', axis = 1, inplace=True)"
   ]
  },
  {
   "cell_type": "code",
   "execution_count": 244,
   "metadata": {},
   "outputs": [
    {
     "name": "stdout",
     "output_type": "stream",
     "text": [
      "We've been able to reduce the features to => 23\n"
     ]
    }
   ],
   "source": [
    "loans_2007 = loans_2007.drop('pymnt_plan', axis=1) \n",
    "print(\"We've been able to reduce the features to => {}\".format(loans_2007.shape[1]))"
   ]
  },
  {
   "cell_type": "markdown",
   "metadata": {},
   "source": [
    "Lastly, let's use pandas to save our freshly-cleaned DataFrame as a CSV file: "
   ]
  },
  {
   "cell_type": "code",
   "execution_count": 245,
   "metadata": {},
   "outputs": [],
   "source": [
    "loans_2007.to_csv(\"filtered_loans_2007.csv\",index=False)"
   ]
  },
  {
   "cell_type": "markdown",
   "metadata": {},
   "source": [
    "Now that i have filtered out all the useless columns/features finally i can start preparing the data for machine learning."
   ]
  },
  {
   "cell_type": "markdown",
   "metadata": {},
   "source": [
    "- **Step 3: Preparing the data for machine learning**"
   ]
  },
  {
   "cell_type": "markdown",
   "metadata": {},
   "source": [
    "- Handling missing values\n",
    "- Categorical columns to numeric column\n",
    "    - Map Ordinal Values to Integers\n",
    "    - Encode Nominal Values As Dummy Variables\n",
    "- Removing any other columns we might not need after the above steps"
   ]
  },
  {
   "cell_type": "markdown",
   "metadata": {},
   "source": [
    "Categorical columns are converted to numeric columns as the machine learning models are based on mathematics and it won't be able to process categorical data."
   ]
  },
  {
   "cell_type": "code",
   "execution_count": 246,
   "metadata": {},
   "outputs": [
    {
     "name": "stdout",
     "output_type": "stream",
     "text": [
      "(39239, 23)\n"
     ]
    },
    {
     "data": {
      "text/html": [
       "<div>\n",
       "<style scoped>\n",
       "    .dataframe tbody tr th:only-of-type {\n",
       "        vertical-align: middle;\n",
       "    }\n",
       "\n",
       "    .dataframe tbody tr th {\n",
       "        vertical-align: top;\n",
       "    }\n",
       "\n",
       "    .dataframe thead th {\n",
       "        text-align: right;\n",
       "    }\n",
       "</style>\n",
       "<table border=\"1\" class=\"dataframe\">\n",
       "  <thead>\n",
       "    <tr style=\"text-align: right;\">\n",
       "      <th></th>\n",
       "      <th>loan_amnt</th>\n",
       "      <th>term</th>\n",
       "      <th>installment</th>\n",
       "      <th>grade</th>\n",
       "      <th>emp_length</th>\n",
       "      <th>home_ownership</th>\n",
       "      <th>annual_inc</th>\n",
       "      <th>verification_status</th>\n",
       "      <th>loan_status</th>\n",
       "      <th>purpose</th>\n",
       "      <th>...</th>\n",
       "      <th>earliest_cr_line</th>\n",
       "      <th>inq_last_6mths</th>\n",
       "      <th>open_acc</th>\n",
       "      <th>pub_rec</th>\n",
       "      <th>revol_bal</th>\n",
       "      <th>revol_util</th>\n",
       "      <th>total_acc</th>\n",
       "      <th>last_credit_pull_d</th>\n",
       "      <th>pub_rec_bankruptcies</th>\n",
       "      <th>fico_score</th>\n",
       "    </tr>\n",
       "  </thead>\n",
       "  <tbody>\n",
       "    <tr>\n",
       "      <th>0</th>\n",
       "      <td>5000.0</td>\n",
       "      <td>36 months</td>\n",
       "      <td>162.87</td>\n",
       "      <td>B</td>\n",
       "      <td>10+ years</td>\n",
       "      <td>RENT</td>\n",
       "      <td>24000.0</td>\n",
       "      <td>Verified</td>\n",
       "      <td>1</td>\n",
       "      <td>credit_card</td>\n",
       "      <td>...</td>\n",
       "      <td>Jan-1985</td>\n",
       "      <td>1.0</td>\n",
       "      <td>3.0</td>\n",
       "      <td>0.0</td>\n",
       "      <td>13648.0</td>\n",
       "      <td>83.7%</td>\n",
       "      <td>9.0</td>\n",
       "      <td>Sep-2016</td>\n",
       "      <td>0.0</td>\n",
       "      <td>737.0</td>\n",
       "    </tr>\n",
       "    <tr>\n",
       "      <th>1</th>\n",
       "      <td>2500.0</td>\n",
       "      <td>60 months</td>\n",
       "      <td>59.83</td>\n",
       "      <td>C</td>\n",
       "      <td>&lt; 1 year</td>\n",
       "      <td>RENT</td>\n",
       "      <td>30000.0</td>\n",
       "      <td>Source Verified</td>\n",
       "      <td>0</td>\n",
       "      <td>car</td>\n",
       "      <td>...</td>\n",
       "      <td>Apr-1999</td>\n",
       "      <td>5.0</td>\n",
       "      <td>3.0</td>\n",
       "      <td>0.0</td>\n",
       "      <td>1687.0</td>\n",
       "      <td>9.4%</td>\n",
       "      <td>4.0</td>\n",
       "      <td>Sep-2016</td>\n",
       "      <td>0.0</td>\n",
       "      <td>742.0</td>\n",
       "    </tr>\n",
       "    <tr>\n",
       "      <th>2</th>\n",
       "      <td>2400.0</td>\n",
       "      <td>36 months</td>\n",
       "      <td>84.33</td>\n",
       "      <td>C</td>\n",
       "      <td>10+ years</td>\n",
       "      <td>RENT</td>\n",
       "      <td>12252.0</td>\n",
       "      <td>Not Verified</td>\n",
       "      <td>1</td>\n",
       "      <td>small_business</td>\n",
       "      <td>...</td>\n",
       "      <td>Nov-2001</td>\n",
       "      <td>2.0</td>\n",
       "      <td>2.0</td>\n",
       "      <td>0.0</td>\n",
       "      <td>2956.0</td>\n",
       "      <td>98.5%</td>\n",
       "      <td>10.0</td>\n",
       "      <td>Sep-2016</td>\n",
       "      <td>0.0</td>\n",
       "      <td>737.0</td>\n",
       "    </tr>\n",
       "    <tr>\n",
       "      <th>3</th>\n",
       "      <td>10000.0</td>\n",
       "      <td>36 months</td>\n",
       "      <td>339.31</td>\n",
       "      <td>C</td>\n",
       "      <td>10+ years</td>\n",
       "      <td>RENT</td>\n",
       "      <td>49200.0</td>\n",
       "      <td>Source Verified</td>\n",
       "      <td>1</td>\n",
       "      <td>other</td>\n",
       "      <td>...</td>\n",
       "      <td>Feb-1996</td>\n",
       "      <td>1.0</td>\n",
       "      <td>10.0</td>\n",
       "      <td>0.0</td>\n",
       "      <td>5598.0</td>\n",
       "      <td>21%</td>\n",
       "      <td>37.0</td>\n",
       "      <td>Apr-2016</td>\n",
       "      <td>0.0</td>\n",
       "      <td>692.0</td>\n",
       "    </tr>\n",
       "    <tr>\n",
       "      <th>4</th>\n",
       "      <td>5000.0</td>\n",
       "      <td>36 months</td>\n",
       "      <td>156.46</td>\n",
       "      <td>A</td>\n",
       "      <td>3 years</td>\n",
       "      <td>RENT</td>\n",
       "      <td>36000.0</td>\n",
       "      <td>Source Verified</td>\n",
       "      <td>1</td>\n",
       "      <td>wedding</td>\n",
       "      <td>...</td>\n",
       "      <td>Nov-2004</td>\n",
       "      <td>3.0</td>\n",
       "      <td>9.0</td>\n",
       "      <td>0.0</td>\n",
       "      <td>7963.0</td>\n",
       "      <td>28.3%</td>\n",
       "      <td>12.0</td>\n",
       "      <td>Jan-2016</td>\n",
       "      <td>0.0</td>\n",
       "      <td>732.0</td>\n",
       "    </tr>\n",
       "  </tbody>\n",
       "</table>\n",
       "<p>5 rows × 23 columns</p>\n",
       "</div>"
      ],
      "text/plain": [
       "   loan_amnt        term  installment grade emp_length home_ownership  \\\n",
       "0     5000.0   36 months       162.87     B  10+ years           RENT   \n",
       "1     2500.0   60 months        59.83     C   < 1 year           RENT   \n",
       "2     2400.0   36 months        84.33     C  10+ years           RENT   \n",
       "3    10000.0   36 months       339.31     C  10+ years           RENT   \n",
       "4     5000.0   36 months       156.46     A    3 years           RENT   \n",
       "\n",
       "   annual_inc verification_status  loan_status         purpose  ...  \\\n",
       "0     24000.0            Verified            1     credit_card  ...   \n",
       "1     30000.0     Source Verified            0             car  ...   \n",
       "2     12252.0        Not Verified            1  small_business  ...   \n",
       "3     49200.0     Source Verified            1           other  ...   \n",
       "4     36000.0     Source Verified            1         wedding  ...   \n",
       "\n",
       "  earliest_cr_line  inq_last_6mths  open_acc pub_rec  revol_bal  revol_util  \\\n",
       "0         Jan-1985             1.0       3.0     0.0    13648.0       83.7%   \n",
       "1         Apr-1999             5.0       3.0     0.0     1687.0        9.4%   \n",
       "2         Nov-2001             2.0       2.0     0.0     2956.0       98.5%   \n",
       "3         Feb-1996             1.0      10.0     0.0     5598.0         21%   \n",
       "4         Nov-2004             3.0       9.0     0.0     7963.0       28.3%   \n",
       "\n",
       "   total_acc  last_credit_pull_d pub_rec_bankruptcies  fico_score  \n",
       "0        9.0            Sep-2016                  0.0       737.0  \n",
       "1        4.0            Sep-2016                  0.0       742.0  \n",
       "2       10.0            Sep-2016                  0.0       737.0  \n",
       "3       37.0            Apr-2016                  0.0       692.0  \n",
       "4       12.0            Jan-2016                  0.0       732.0  \n",
       "\n",
       "[5 rows x 23 columns]"
      ]
     },
     "execution_count": 246,
     "metadata": {},
     "output_type": "execute_result"
    }
   ],
   "source": [
    "# Loading the data from the file 'filtered_loans_2007.csv' which we saved \n",
    "\n",
    "filtered_loans = pd.read_csv('filtered_loans_2007.csv') \n",
    "print(filtered_loans.shape) \n",
    "filtered_loans.head() "
   ]
  },
  {
   "cell_type": "code",
   "execution_count": 247,
   "metadata": {},
   "outputs": [
    {
     "data": {
      "text/plain": [
       "Index(['loan_amnt', 'term', 'installment', 'grade', 'emp_length',\n",
       "       'home_ownership', 'annual_inc', 'verification_status', 'loan_status',\n",
       "       'purpose', 'title', 'dti', 'delinq_2yrs', 'earliest_cr_line',\n",
       "       'inq_last_6mths', 'open_acc', 'pub_rec', 'revol_bal', 'revol_util',\n",
       "       'total_acc', 'last_credit_pull_d', 'pub_rec_bankruptcies',\n",
       "       'fico_score'],\n",
       "      dtype='object')"
      ]
     },
     "execution_count": 247,
     "metadata": {},
     "output_type": "execute_result"
    }
   ],
   "source": [
    "loans_2007.columns"
   ]
  },
  {
   "cell_type": "markdown",
   "metadata": {},
   "source": [
    "- **Handling Missing Values**\n",
    "\n",
    "I'll print the number of missing values and see how I can handle them"
   ]
  },
  {
   "cell_type": "code",
   "execution_count": 248,
   "metadata": {},
   "outputs": [
    {
     "name": "stdout",
     "output_type": "stream",
     "text": [
      "Null values per column:\n",
      "loan_amnt                  0\n",
      "term                       0\n",
      "installment                0\n",
      "grade                      0\n",
      "emp_length              1057\n",
      "home_ownership             0\n",
      "annual_inc                 0\n",
      "verification_status        0\n",
      "loan_status                0\n",
      "purpose                    0\n",
      "title                     11\n",
      "dti                        0\n",
      "delinq_2yrs                0\n",
      "earliest_cr_line           0\n",
      "inq_last_6mths             0\n",
      "open_acc                   0\n",
      "pub_rec                    0\n",
      "revol_bal                  0\n",
      "revol_util                50\n",
      "total_acc                  0\n",
      "last_credit_pull_d         2\n",
      "pub_rec_bankruptcies     697\n",
      "fico_score                 0\n",
      "dtype: int64\n"
     ]
    }
   ],
   "source": [
    "All_nulls = filtered_loans.isnull().sum()\n",
    "\n",
    "print(f\"Null values per column:\\n{All_nulls}\")"
   ]
  },
  {
   "cell_type": "markdown",
   "metadata": {},
   "source": [
    "I'll remove the rows containing null values. \n",
    "\n",
    "This means I'll lose a bit of data, but in return keep some extra features to use for prediction (since I won't have to drop those columns). \n",
    "\n",
    "\"pub_rec_bankruptcies\" has 697 null values. As \"pub_rec\" shows any rec of public derogatory(A derogatory public record is a record of an action or incident that is recorded with a government agency and contains negative information), so i can drop \"pub_rec_bankruptcies\" column also."
   ]
  },
  {
   "cell_type": "code",
   "execution_count": 249,
   "metadata": {},
   "outputs": [],
   "source": [
    "filtered_loans = filtered_loans.drop(\"pub_rec_bankruptcies\",axis=1) \n",
    "filtered_loans = filtered_loans.dropna() "
   ]
  },
  {
   "cell_type": "markdown",
   "metadata": {},
   "source": [
    "Now I can work with categorical columns\n",
    "\n",
    "My goal here is to end up with a data set that's ready for machine learning, meaning that it contains no missing values and that all values in columns are numeric (float or int data type)"
   ]
  },
  {
   "cell_type": "code",
   "execution_count": 250,
   "metadata": {},
   "outputs": [
    {
     "name": "stdout",
     "output_type": "stream",
     "text": [
      "Data types and their frequency\n",
      "float64    11\n",
      "object     10\n",
      "int64       1\n",
      "Name: count, dtype: int64\n"
     ]
    }
   ],
   "source": [
    "print(\"Data types and their frequency\\n{}\".format(filtered_loans.dtypes.value_counts()))"
   ]
  },
  {
   "cell_type": "markdown",
   "metadata": {},
   "source": [
    "There are 10 object type columns that contain text data(string data type) that needs to be converted to numerical data if possible or drop them.\n",
    "\n",
    "I will print a sample of this data."
   ]
  },
  {
   "cell_type": "code",
   "execution_count": 251,
   "metadata": {},
   "outputs": [
    {
     "name": "stdout",
     "output_type": "stream",
     "text": [
      "term                     36 months\n",
      "grade                            B\n",
      "emp_length               10+ years\n",
      "home_ownership                RENT\n",
      "verification_status       Verified\n",
      "purpose                credit_card\n",
      "title                     Computer\n",
      "earliest_cr_line          Jan-1985\n",
      "revol_util                   83.7%\n",
      "last_credit_pull_d        Sep-2016\n",
      "Name: 0, dtype: object\n"
     ]
    }
   ],
   "source": [
    "object_columns_df = filtered_loans.select_dtypes(include=['object']) \n",
    "print(object_columns_df.iloc[0]) "
   ]
  },
  {
   "cell_type": "markdown",
   "metadata": {},
   "source": [
    "Notice that \"revol_util\" column contains numeric values, but is formatted as object. \n",
    "\n",
    "The description of columns in the preview DataFrame earlier mentioned that \"revol_util\" is a \"revolving line utilization rate or the amount of credit the borrower is using relative to all available credit\". \n",
    "\n",
    "I will format \"revol_util\" as a numeric value."
   ]
  },
  {
   "cell_type": "markdown",
   "metadata": {},
   "source": [
    "Here's what I will do: \n",
    "\n",
    "Use the str.rstrip() string method to strip the right trailing percent sign (%) On the resulting Series object, then use the astype() method to convert to the type float. Then Assign the new Series of float values back to the revol_util column in the filtered_loans."
   ]
  },
  {
   "cell_type": "code",
   "execution_count": 252,
   "metadata": {},
   "outputs": [
    {
     "data": {
      "text/plain": [
       "0    83.7\n",
       "1     9.4\n",
       "2    98.5\n",
       "3    21.0\n",
       "4    28.3\n",
       "5    85.6\n",
       "6    87.5\n",
       "7    32.6\n",
       "8    36.5\n",
       "9    20.6\n",
       "Name: revol_util, dtype: float64"
      ]
     },
     "execution_count": 252,
     "metadata": {},
     "output_type": "execute_result"
    }
   ],
   "source": [
    "filtered_loans['revol_util'] = filtered_loans['revol_util'].str.rstrip('%').astype('float')\n",
    "filtered_loans['revol_util'].head(10)"
   ]
  },
  {
   "cell_type": "markdown",
   "metadata": {},
   "source": [
    "Now I will find columns which has categorical values with less categories, because if there are more categories the algorithms won't be able to find a pattern which works to filter out defaulters."
   ]
  },
  {
   "cell_type": "code",
   "execution_count": 253,
   "metadata": {},
   "outputs": [
    {
     "data": {
      "text/plain": [
       "['term',\n",
       " 'grade',\n",
       " 'emp_length',\n",
       " 'home_ownership',\n",
       " 'verification_status',\n",
       " 'purpose',\n",
       " 'title',\n",
       " 'earliest_cr_line',\n",
       " 'revol_util',\n",
       " 'last_credit_pull_d']"
      ]
     },
     "execution_count": 253,
     "metadata": {},
     "output_type": "execute_result"
    }
   ],
   "source": [
    "col_list = object_columns_df.columns.tolist()\n",
    "col_list"
   ]
  },
  {
   "cell_type": "markdown",
   "metadata": {},
   "source": [
    "Now I will go ahead and printout each unique value respective to the columns."
   ]
  },
  {
   "cell_type": "markdown",
   "metadata": {},
   "source": [
    "Moving on, these columns seem to represent categorical values: \n",
    "\n",
    "home_ownership — home ownership status, can only be 1 of 4 categorical values according to the data dictionary. \n",
    "\n",
    "verification_status — indicates if income was verified by LendingClub. \n",
    "\n",
    "emp_length — number of years the borrower was employed upon time of application. \n",
    "\n",
    "term — number of payments on the loan, either 36 or 60. addr_state — borrower's state of residence. \n",
    "\n",
    "grade — LC assigned loan grade based on credit score. \n",
    "\n",
    "purpose — a category provided by the borrower for the loan request. \n",
    "\n",
    "title — loan title provided the borrower.\n",
    "\n",
    "Based on the first row's values for purpose and title, it appears these two columns reflect the same information. \n",
    "\n",
    "Lastly the two date columns:\n",
    "\n",
    "earliest_cr_line — The month the borrower's earliest reported credit line was opened. \n",
    "\n",
    "last_credit_pull_d — The most recent month LendingClub pulled credit for this loan. "
   ]
  },
  {
   "cell_type": "code",
   "execution_count": 254,
   "metadata": {},
   "outputs": [
    {
     "name": "stdout",
     "output_type": "stream",
     "text": [
      "\n",
      " term\n",
      "36 months    28234\n",
      "60 months     9889\n",
      "Name: count, dtype: int64\n",
      "\n",
      " grade\n",
      "B    11545\n",
      "A     9675\n",
      "C     7801\n",
      "D     5086\n",
      "E     2715\n",
      "F      993\n",
      "G      308\n",
      "Name: count, dtype: int64\n",
      "\n",
      " emp_length\n",
      "10+ years    8715\n",
      "< 1 year     4542\n",
      "2 years      4344\n",
      "3 years      4050\n",
      "4 years      3385\n",
      "5 years      3243\n",
      "1 year       3207\n",
      "6 years      2198\n",
      "7 years      1738\n",
      "8 years      1457\n",
      "9 years      1244\n",
      "Name: count, dtype: int64\n",
      "\n",
      " home_ownership\n",
      "RENT        18271\n",
      "MORTGAGE    16945\n",
      "OWN          2808\n",
      "OTHER          96\n",
      "NONE            3\n",
      "Name: count, dtype: int64\n",
      "\n",
      " verification_status\n",
      "Not Verified       16391\n",
      "Verified           12070\n",
      "Source Verified     9662\n",
      "Name: count, dtype: int64\n",
      "\n",
      " purpose\n",
      "debt_consolidation    17965\n",
      "credit_card            4944\n",
      "other                  3764\n",
      "home_improvement       2852\n",
      "major_purchase         2105\n",
      "small_business         1749\n",
      "car                    1483\n",
      "wedding                 927\n",
      "medical                 663\n",
      "moving                  556\n",
      "house                   359\n",
      "vacation                349\n",
      "educational             312\n",
      "renewable_energy         95\n",
      "Name: count, dtype: int64\n",
      "\n",
      " title\n",
      "Debt Consolidation            2102\n",
      "Debt Consolidation Loan       1635\n",
      "Personal Loan                  632\n",
      "Consolidation                  495\n",
      "debt consolidation             476\n",
      "                              ... \n",
      "Feb Loan                         1\n",
      "Tictok24                         1\n",
      "Wedding/Honeymoon Expenses       1\n",
      "Veterinary Expense               1\n",
      "JAL Loan                         1\n",
      "Name: count, Length: 19021, dtype: int64\n",
      "\n",
      " earliest_cr_line\n",
      "Nov-1998    358\n",
      "Oct-1999    356\n",
      "Dec-1998    337\n",
      "Oct-2000    334\n",
      "Dec-1997    317\n",
      "           ... \n",
      "Dec-1965      1\n",
      "Dec-1950      1\n",
      "Aug-1967      1\n",
      "Sep-1963      1\n",
      "Jun-1972      1\n",
      "Name: count, Length: 515, dtype: int64\n",
      "\n",
      " revol_util\n",
      "0.00     936\n",
      "0.20      62\n",
      "63.00     61\n",
      "40.70     58\n",
      "61.00     56\n",
      "        ... \n",
      "25.74      1\n",
      "0.12       1\n",
      "0.83       1\n",
      "47.36      1\n",
      "7.28       1\n",
      "Name: count, Length: 1087, dtype: int64\n",
      "\n",
      " last_credit_pull_d\n",
      "Sep-2016    14177\n",
      "Mar-2016      805\n",
      "Aug-2016      695\n",
      "Feb-2013      657\n",
      "Apr-2016      651\n",
      "            ...  \n",
      "May-2008        1\n",
      "Jun-2008        1\n",
      "Jul-2008        1\n",
      "May-2007        1\n",
      "Jul-2007        1\n",
      "Name: count, Length: 110, dtype: int64\n"
     ]
    }
   ],
   "source": [
    "for x in col_list:\n",
    "    val_cnt = filtered_loans[x].value_counts()\n",
    "    print(f'\\n {val_cnt}')\n",
    "    "
   ]
  },
  {
   "cell_type": "markdown",
   "metadata": {},
   "source": [
    "First, I'll explore the unique value counts of the six columns that seem like they contain categorical values:"
   ]
  },
  {
   "cell_type": "code",
   "execution_count": 255,
   "metadata": {},
   "outputs": [
    {
     "name": "stdout",
     "output_type": "stream",
     "text": [
      "home_ownership :\n",
      "home_ownership\n",
      "RENT        18271\n",
      "MORTGAGE    16945\n",
      "OWN          2808\n",
      "OTHER          96\n",
      "NONE            3\n",
      "Name: count, dtype: int64 \n",
      "\n",
      "grade :\n",
      "grade\n",
      "B    11545\n",
      "A     9675\n",
      "C     7801\n",
      "D     5086\n",
      "E     2715\n",
      "F      993\n",
      "G      308\n",
      "Name: count, dtype: int64 \n",
      "\n",
      "verification_status :\n",
      "verification_status\n",
      "Not Verified       16391\n",
      "Verified           12070\n",
      "Source Verified     9662\n",
      "Name: count, dtype: int64 \n",
      "\n",
      "emp_length :\n",
      "emp_length\n",
      "10+ years    8715\n",
      "< 1 year     4542\n",
      "2 years      4344\n",
      "3 years      4050\n",
      "4 years      3385\n",
      "5 years      3243\n",
      "1 year       3207\n",
      "6 years      2198\n",
      "7 years      1738\n",
      "8 years      1457\n",
      "9 years      1244\n",
      "Name: count, dtype: int64 \n",
      "\n",
      "term :\n",
      "term\n",
      "36 months    28234\n",
      "60 months     9889\n",
      "Name: count, dtype: int64 \n",
      "\n"
     ]
    }
   ],
   "source": [
    "cols = ['home_ownership', 'grade','verification_status', 'emp_length', 'term'] \n",
    "for name in cols: \n",
    "    print(name,':') \n",
    "    print(object_columns_df[name].value_counts(),'\\n') "
   ]
  },
  {
   "cell_type": "markdown",
   "metadata": {},
   "source": [
    "Most of these columns contain discrete categorical values which I can encode as dummy variables(Dummy variables in machine learning are binary (0 or 1) variables created to represent categorical data, allowing algorithms to process non-numeric features) and keep. \n",
    "\n",
    "Next, I'll print out unique value counts for the purpose and title columns to understand which columns to keep."
   ]
  },
  {
   "cell_type": "code",
   "execution_count": 256,
   "metadata": {},
   "outputs": [
    {
     "name": "stdout",
     "output_type": "stream",
     "text": [
      "Unique Values in column: purpose\n",
      "\n",
      "purpose\n",
      "debt_consolidation    17965\n",
      "credit_card            4944\n",
      "other                  3764\n",
      "home_improvement       2852\n",
      "major_purchase         2105\n",
      "small_business         1749\n",
      "car                    1483\n",
      "wedding                 927\n",
      "medical                 663\n",
      "moving                  556\n",
      "house                   359\n",
      "vacation                349\n",
      "educational             312\n",
      "renewable_energy         95\n",
      "Name: count, dtype: int64 \n",
      "\n",
      "Unique Values in column: title\n",
      "\n",
      "title\n",
      "Debt Consolidation            2102\n",
      "Debt Consolidation Loan       1635\n",
      "Personal Loan                  632\n",
      "Consolidation                  495\n",
      "debt consolidation             476\n",
      "                              ... \n",
      "Feb Loan                         1\n",
      "Tictok24                         1\n",
      "Wedding/Honeymoon Expenses       1\n",
      "Veterinary Expense               1\n",
      "JAL Loan                         1\n",
      "Name: count, Length: 19021, dtype: int64 \n",
      "\n"
     ]
    }
   ],
   "source": [
    "for name in ['purpose','title']: \n",
    "    print(\"Unique Values in column: {}\\n\".format(name)) \n",
    "    print(filtered_loans[name].value_counts(),'\\n')"
   ]
  },
  {
   "cell_type": "markdown",
   "metadata": {},
   "source": [
    "It appears the purpose and title columns do contain overlapping information, but the purpose column contains fewer discrete values and is cleaner, so I'll keep it and drop title. "
   ]
  },
  {
   "cell_type": "code",
   "execution_count": 257,
   "metadata": {},
   "outputs": [],
   "source": [
    "filtered_loans.drop('title',axis=1, inplace=True)"
   ]
  },
  {
   "cell_type": "markdown",
   "metadata": {},
   "source": [
    "I can extract the time duration of credit history from 'earliest_cr_history', 'last_credit_pull_d' date columns and checkout experience and stability of the borrower."
   ]
  },
  {
   "cell_type": "code",
   "execution_count": 258,
   "metadata": {},
   "outputs": [],
   "source": [
    "# Converting both columns to DateTime Data type\n",
    "\n",
    "filtered_loans['earliest_cr_line'] = pd.to_datetime(filtered_loans['earliest_cr_line'], format='%b-%Y')\n",
    "filtered_loans['last_credit_pull_d'] = pd.to_datetime(filtered_loans['last_credit_pull_d'], format='%b-%Y')"
   ]
  },
  {
   "cell_type": "code",
   "execution_count": 259,
   "metadata": {},
   "outputs": [
    {
     "name": "stdout",
     "output_type": "stream",
     "text": [
      "Minimum length In days: 1157.0\n",
      "Maximum length In days: 25080.0\n"
     ]
    }
   ],
   "source": [
    "# Finding out how old is borrower's credit history in days\n",
    "\n",
    "filtered_loans['cr_history'] = (filtered_loans['last_credit_pull_d'] - filtered_loans['earliest_cr_line']).dt.days\n",
    "filtered_loans['cr_history'] = filtered_loans['cr_history'].astype('float')\n",
    "min = filtered_loans['cr_history'].min()\n",
    "max = filtered_loans['cr_history'].max()\n",
    "\n",
    "print(f'Minimum length In days: {min}\\nMaximum length In days: {max}')"
   ]
  },
  {
   "cell_type": "markdown",
   "metadata": {},
   "source": [
    "I can Convert days to years for ease of use"
   ]
  },
  {
   "cell_type": "code",
   "execution_count": 260,
   "metadata": {},
   "outputs": [
    {
     "data": {
      "text/plain": [
       "0    31.64\n",
       "1    17.41\n",
       "2    14.82\n",
       "3    20.15\n",
       "4    11.16\n",
       "Name: cr_history, dtype: float64"
      ]
     },
     "execution_count": 260,
     "metadata": {},
     "output_type": "execute_result"
    }
   ],
   "source": [
    "# I will keep two decimals to represent month and days\n",
    "\n",
    "filtered_loans['cr_history'] = round(filtered_loans['cr_history'] / 365.5, 2)\n",
    "filtered_loans['cr_history'].head()"
   ]
  },
  {
   "cell_type": "markdown",
   "metadata": {},
   "source": [
    "Now that I have extracted info from the date columns I can drop the date columns"
   ]
  },
  {
   "cell_type": "code",
   "execution_count": 261,
   "metadata": {},
   "outputs": [],
   "source": [
    "drop_cols = ['last_credit_pull_d', 'earliest_cr_line'] \n",
    "\n",
    "filtered_loans = filtered_loans.drop(drop_cols,axis=1)"
   ]
  },
  {
   "cell_type": "markdown",
   "metadata": {},
   "source": [
    "- **Converting Categorical Columns to Numeric Features** \n",
    "\n",
    "There are two types of categorical features here in this dataset\n",
    "- **Ordinal Values**: has some kind of order\n",
    "For instance, LendingClub grades loan applicants from A to G, and assigns each applicant a corresponding interest rate - grade A is least risky, grade B is riskier than A, and so on: A < B < C < D < E < F < G ; where < means less risky than \n",
    "\n",
    "- **Nominal Values**: has no order\n",
    "For instance, while I can order loan applicants in the employment length column (emp_length) based on years spent in the workforce: year 1 < year 2 < year 3 ... < year N, I can't do that with the column purpose. \n",
    "\n",
    "It wouldn't make sense to say: car < wedding < education < moving < house.\n",
    "\n",
    "These are the columns I now have in our dataset: \n",
    "- **Ordinal Values**: \"grade\", \"emp_length\"\n",
    "- **Nominal Values**: \"home_ownership\", \"verification_status\", \"purpose\", \"term\" \n",
    "\n",
    "There are different approaches to handle each of these two types. \n",
    "To map the ordinal values to integers, I can use the pandas DataFrame method replace() to map both \"grade\" and \"emp_length\" to appropriate numeric values:\n",
    "\n",
    "\n"
   ]
  },
  {
   "cell_type": "code",
   "execution_count": 262,
   "metadata": {},
   "outputs": [
    {
     "name": "stderr",
     "output_type": "stream",
     "text": [
      "C:\\Users\\LENOVO\\AppData\\Local\\Temp\\ipykernel_8676\\709455444.py:21: FutureWarning: Downcasting behavior in `replace` is deprecated and will be removed in a future version. To retain the old behavior, explicitly call `result.infer_objects(copy=False)`. To opt-in to the future behavior, set `pd.set_option('future.no_silent_downcasting', True)`\n",
      "  filtered_loans = filtered_loans.replace(mapping_dict)\n"
     ]
    },
    {
     "data": {
      "text/html": [
       "<div>\n",
       "<style scoped>\n",
       "    .dataframe tbody tr th:only-of-type {\n",
       "        vertical-align: middle;\n",
       "    }\n",
       "\n",
       "    .dataframe tbody tr th {\n",
       "        vertical-align: top;\n",
       "    }\n",
       "\n",
       "    .dataframe thead th {\n",
       "        text-align: right;\n",
       "    }\n",
       "</style>\n",
       "<table border=\"1\" class=\"dataframe\">\n",
       "  <thead>\n",
       "    <tr style=\"text-align: right;\">\n",
       "      <th></th>\n",
       "      <th>emp_length</th>\n",
       "      <th>grade</th>\n",
       "    </tr>\n",
       "  </thead>\n",
       "  <tbody>\n",
       "    <tr>\n",
       "      <th>0</th>\n",
       "      <td>10</td>\n",
       "      <td>2</td>\n",
       "    </tr>\n",
       "    <tr>\n",
       "      <th>1</th>\n",
       "      <td>0</td>\n",
       "      <td>3</td>\n",
       "    </tr>\n",
       "    <tr>\n",
       "      <th>2</th>\n",
       "      <td>10</td>\n",
       "      <td>3</td>\n",
       "    </tr>\n",
       "    <tr>\n",
       "      <th>3</th>\n",
       "      <td>10</td>\n",
       "      <td>3</td>\n",
       "    </tr>\n",
       "    <tr>\n",
       "      <th>4</th>\n",
       "      <td>3</td>\n",
       "      <td>1</td>\n",
       "    </tr>\n",
       "  </tbody>\n",
       "</table>\n",
       "</div>"
      ],
      "text/plain": [
       "   emp_length  grade\n",
       "0          10      2\n",
       "1           0      3\n",
       "2          10      3\n",
       "3          10      3\n",
       "4           3      1"
      ]
     },
     "execution_count": 262,
     "metadata": {},
     "output_type": "execute_result"
    }
   ],
   "source": [
    "mapping_dict = {\"emp_length\": { \"10+ years\": 10, \n",
    "                                \"9 years\": 9, \n",
    "                                \"8 years\": 8, \n",
    "                                \"7 years\": 7, \n",
    "                                \"6 years\": 6, \n",
    "                                \"5 years\": 5, \n",
    "                                \"4 years\": 4, \n",
    "                                \"3 years\": 3, \n",
    "                                \"2 years\": 2, \n",
    "                                \"1 year\": 1, \n",
    "                                \"< 1 year\": 0, \n",
    "                                \"n/a\": 0 }, \n",
    "                \"grade\":{ \"A\": 1, \n",
    "                         \"B\": 2, \n",
    "                         \"C\": 3, \n",
    "                         \"D\": 4, \n",
    "                         \"E\": 5, \n",
    "                         \"F\": 6, \n",
    "                         \"G\": 7 } } \n",
    "\n",
    "filtered_loans = filtered_loans.replace(mapping_dict) \n",
    "filtered_loans[['emp_length','grade']].head()"
   ]
  },
  {
   "cell_type": "markdown",
   "metadata": {},
   "source": [
    "Now Converting nominal features into numerical features requires encoding them as dummy variables. \n",
    "\n",
    "The process will be: \n",
    "- Use pandas' get_dummies() method to return a new DataFrame containing a new column for each dummy variable. \n",
    "- Use the concat() method to add these dummy columns back to the original DataFrame. \n",
    "- Drop the original columns entirely using the drop method. "
   ]
  },
  {
   "cell_type": "code",
   "execution_count": 263,
   "metadata": {},
   "outputs": [
    {
     "data": {
      "text/html": [
       "<div>\n",
       "<style scoped>\n",
       "    .dataframe tbody tr th:only-of-type {\n",
       "        vertical-align: middle;\n",
       "    }\n",
       "\n",
       "    .dataframe tbody tr th {\n",
       "        vertical-align: top;\n",
       "    }\n",
       "\n",
       "    .dataframe thead th {\n",
       "        text-align: right;\n",
       "    }\n",
       "</style>\n",
       "<table border=\"1\" class=\"dataframe\">\n",
       "  <thead>\n",
       "    <tr style=\"text-align: right;\">\n",
       "      <th></th>\n",
       "      <th>loan_amnt</th>\n",
       "      <th>installment</th>\n",
       "      <th>grade</th>\n",
       "      <th>emp_length</th>\n",
       "      <th>annual_inc</th>\n",
       "      <th>loan_status</th>\n",
       "      <th>dti</th>\n",
       "      <th>delinq_2yrs</th>\n",
       "      <th>inq_last_6mths</th>\n",
       "      <th>open_acc</th>\n",
       "      <th>...</th>\n",
       "      <th>purpose_major_purchase</th>\n",
       "      <th>purpose_medical</th>\n",
       "      <th>purpose_moving</th>\n",
       "      <th>purpose_other</th>\n",
       "      <th>purpose_renewable_energy</th>\n",
       "      <th>purpose_small_business</th>\n",
       "      <th>purpose_vacation</th>\n",
       "      <th>purpose_wedding</th>\n",
       "      <th>term_ 36 months</th>\n",
       "      <th>term_ 60 months</th>\n",
       "    </tr>\n",
       "  </thead>\n",
       "  <tbody>\n",
       "    <tr>\n",
       "      <th>0</th>\n",
       "      <td>5000.0</td>\n",
       "      <td>162.87</td>\n",
       "      <td>2</td>\n",
       "      <td>10</td>\n",
       "      <td>24000.0</td>\n",
       "      <td>1</td>\n",
       "      <td>27.65</td>\n",
       "      <td>0.0</td>\n",
       "      <td>1.0</td>\n",
       "      <td>3.0</td>\n",
       "      <td>...</td>\n",
       "      <td>0</td>\n",
       "      <td>0</td>\n",
       "      <td>0</td>\n",
       "      <td>0</td>\n",
       "      <td>0</td>\n",
       "      <td>0</td>\n",
       "      <td>0</td>\n",
       "      <td>0</td>\n",
       "      <td>1</td>\n",
       "      <td>0</td>\n",
       "    </tr>\n",
       "    <tr>\n",
       "      <th>1</th>\n",
       "      <td>2500.0</td>\n",
       "      <td>59.83</td>\n",
       "      <td>3</td>\n",
       "      <td>0</td>\n",
       "      <td>30000.0</td>\n",
       "      <td>0</td>\n",
       "      <td>1.00</td>\n",
       "      <td>0.0</td>\n",
       "      <td>5.0</td>\n",
       "      <td>3.0</td>\n",
       "      <td>...</td>\n",
       "      <td>0</td>\n",
       "      <td>0</td>\n",
       "      <td>0</td>\n",
       "      <td>0</td>\n",
       "      <td>0</td>\n",
       "      <td>0</td>\n",
       "      <td>0</td>\n",
       "      <td>0</td>\n",
       "      <td>0</td>\n",
       "      <td>1</td>\n",
       "    </tr>\n",
       "    <tr>\n",
       "      <th>2</th>\n",
       "      <td>2400.0</td>\n",
       "      <td>84.33</td>\n",
       "      <td>3</td>\n",
       "      <td>10</td>\n",
       "      <td>12252.0</td>\n",
       "      <td>1</td>\n",
       "      <td>8.72</td>\n",
       "      <td>0.0</td>\n",
       "      <td>2.0</td>\n",
       "      <td>2.0</td>\n",
       "      <td>...</td>\n",
       "      <td>0</td>\n",
       "      <td>0</td>\n",
       "      <td>0</td>\n",
       "      <td>0</td>\n",
       "      <td>0</td>\n",
       "      <td>1</td>\n",
       "      <td>0</td>\n",
       "      <td>0</td>\n",
       "      <td>1</td>\n",
       "      <td>0</td>\n",
       "    </tr>\n",
       "    <tr>\n",
       "      <th>3</th>\n",
       "      <td>10000.0</td>\n",
       "      <td>339.31</td>\n",
       "      <td>3</td>\n",
       "      <td>10</td>\n",
       "      <td>49200.0</td>\n",
       "      <td>1</td>\n",
       "      <td>20.00</td>\n",
       "      <td>0.0</td>\n",
       "      <td>1.0</td>\n",
       "      <td>10.0</td>\n",
       "      <td>...</td>\n",
       "      <td>0</td>\n",
       "      <td>0</td>\n",
       "      <td>0</td>\n",
       "      <td>1</td>\n",
       "      <td>0</td>\n",
       "      <td>0</td>\n",
       "      <td>0</td>\n",
       "      <td>0</td>\n",
       "      <td>1</td>\n",
       "      <td>0</td>\n",
       "    </tr>\n",
       "    <tr>\n",
       "      <th>4</th>\n",
       "      <td>5000.0</td>\n",
       "      <td>156.46</td>\n",
       "      <td>1</td>\n",
       "      <td>3</td>\n",
       "      <td>36000.0</td>\n",
       "      <td>1</td>\n",
       "      <td>11.20</td>\n",
       "      <td>0.0</td>\n",
       "      <td>3.0</td>\n",
       "      <td>9.0</td>\n",
       "      <td>...</td>\n",
       "      <td>0</td>\n",
       "      <td>0</td>\n",
       "      <td>0</td>\n",
       "      <td>0</td>\n",
       "      <td>0</td>\n",
       "      <td>0</td>\n",
       "      <td>0</td>\n",
       "      <td>1</td>\n",
       "      <td>1</td>\n",
       "      <td>0</td>\n",
       "    </tr>\n",
       "  </tbody>\n",
       "</table>\n",
       "<p>5 rows × 40 columns</p>\n",
       "</div>"
      ],
      "text/plain": [
       "   loan_amnt  installment  grade  emp_length  annual_inc  loan_status    dti  \\\n",
       "0     5000.0       162.87      2          10     24000.0            1  27.65   \n",
       "1     2500.0        59.83      3           0     30000.0            0   1.00   \n",
       "2     2400.0        84.33      3          10     12252.0            1   8.72   \n",
       "3    10000.0       339.31      3          10     49200.0            1  20.00   \n",
       "4     5000.0       156.46      1           3     36000.0            1  11.20   \n",
       "\n",
       "   delinq_2yrs  inq_last_6mths  open_acc  ...  purpose_major_purchase  \\\n",
       "0          0.0             1.0       3.0  ...                       0   \n",
       "1          0.0             5.0       3.0  ...                       0   \n",
       "2          0.0             2.0       2.0  ...                       0   \n",
       "3          0.0             1.0      10.0  ...                       0   \n",
       "4          0.0             3.0       9.0  ...                       0   \n",
       "\n",
       "   purpose_medical  purpose_moving  purpose_other  purpose_renewable_energy  \\\n",
       "0                0               0              0                         0   \n",
       "1                0               0              0                         0   \n",
       "2                0               0              0                         0   \n",
       "3                0               0              1                         0   \n",
       "4                0               0              0                         0   \n",
       "\n",
       "   purpose_small_business  purpose_vacation  purpose_wedding  term_ 36 months  \\\n",
       "0                       0                 0                0                1   \n",
       "1                       0                 0                0                0   \n",
       "2                       1                 0                0                1   \n",
       "3                       0                 0                0                1   \n",
       "4                       0                 0                1                1   \n",
       "\n",
       "   term_ 60 months  \n",
       "0                0  \n",
       "1                1  \n",
       "2                0  \n",
       "3                0  \n",
       "4                0  \n",
       "\n",
       "[5 rows x 40 columns]"
      ]
     },
     "execution_count": 263,
     "metadata": {},
     "output_type": "execute_result"
    }
   ],
   "source": [
    "# Step 1\n",
    "nominal_columns = [\"home_ownership\", \"verification_status\", \"purpose\", \"term\"] \n",
    "dummy_df = pd.get_dummies(filtered_loans[nominal_columns])\n",
    "dummy_df = dummy_df.astype(int) \n",
    "\n",
    "# Step 2\n",
    "filtered_loans = pd.concat([filtered_loans, dummy_df], axis=1) \n",
    "\n",
    "# Step 3\n",
    "filtered_loans = filtered_loans.drop(nominal_columns, axis=1) \n",
    "\n",
    "filtered_loans.head()"
   ]
  },
  {
   "cell_type": "markdown",
   "metadata": {},
   "source": [
    "Now i will explore the remaining columns"
   ]
  },
  {
   "cell_type": "code",
   "execution_count": 264,
   "metadata": {},
   "outputs": [
    {
     "name": "stdout",
     "output_type": "stream",
     "text": [
      "['loan_amnt', 'installment', 'grade', 'emp_length', 'annual_inc', 'loan_status', 'dti', 'delinq_2yrs', 'inq_last_6mths', 'open_acc', 'pub_rec', 'revol_bal', 'revol_util', 'total_acc', 'fico_score', 'cr_history', 'home_ownership_MORTGAGE', 'home_ownership_NONE', 'home_ownership_OTHER', 'home_ownership_OWN', 'home_ownership_RENT', 'verification_status_Not Verified', 'verification_status_Source Verified', 'verification_status_Verified', 'purpose_car', 'purpose_credit_card', 'purpose_debt_consolidation', 'purpose_educational', 'purpose_home_improvement', 'purpose_house', 'purpose_major_purchase', 'purpose_medical', 'purpose_moving', 'purpose_other', 'purpose_renewable_energy', 'purpose_small_business', 'purpose_vacation', 'purpose_wedding', 'term_ 36 months', 'term_ 60 months']\n"
     ]
    }
   ],
   "source": [
    "# Creating a list of columns \n",
    "\n",
    "col_list = filtered_loans.columns.tolist()\n",
    "print(col_list)"
   ]
  },
  {
   "cell_type": "code",
   "execution_count": 265,
   "metadata": {},
   "outputs": [],
   "source": [
    "# Creating a default function which will return unique values and\n",
    "# their number of instances for each column.\n",
    "\n",
    "def col_value_counts():    \n",
    "    for col_name in col_list:\n",
    "        print(filtered_loans[col_name].value_counts())    "
   ]
  },
  {
   "cell_type": "code",
   "execution_count": 266,
   "metadata": {},
   "outputs": [
    {
     "name": "stdout",
     "output_type": "stream",
     "text": [
      "loan_amnt\n",
      "10000.0    2760\n",
      "12000.0    2262\n",
      "5000.0     1964\n",
      "6000.0     1846\n",
      "15000.0    1835\n",
      "           ... \n",
      "18575.0       1\n",
      "26250.0       1\n",
      "11775.0       1\n",
      "16350.0       1\n",
      "22550.0       1\n",
      "Name: count, Length: 871, dtype: int64\n",
      "installment\n",
      "311.11    68\n",
      "311.02    54\n",
      "180.96    53\n",
      "150.80    46\n",
      "368.45    45\n",
      "          ..\n",
      "403.75     1\n",
      "300.61     1\n",
      "534.89     1\n",
      "271.70     1\n",
      "255.43     1\n",
      "Name: count, Length: 14990, dtype: int64\n",
      "grade\n",
      "2    11545\n",
      "1     9675\n",
      "3     7801\n",
      "4     5086\n",
      "5     2715\n",
      "6      993\n",
      "7      308\n",
      "Name: count, dtype: int64\n",
      "emp_length\n",
      "10    8715\n",
      "0     4542\n",
      "2     4344\n",
      "3     4050\n",
      "4     3385\n",
      "5     3243\n",
      "1     3207\n",
      "6     2198\n",
      "7     1738\n",
      "8     1457\n",
      "9     1244\n",
      "Name: count, dtype: int64\n",
      "annual_inc\n",
      "60000.00     1456\n",
      "50000.00     1014\n",
      "40000.00      850\n",
      "45000.00      803\n",
      "75000.00      793\n",
      "             ... \n",
      "64512.00        1\n",
      "50343.00        1\n",
      "29056.87        1\n",
      "118374.00       1\n",
      "27376.00        1\n",
      "Name: count, Length: 5060, dtype: int64\n",
      "loan_status\n",
      "1    32717\n",
      "0     5406\n",
      "Name: count, dtype: int64\n",
      "dti\n",
      "0.00     166\n",
      "12.00     45\n",
      "18.00     44\n",
      "19.20     39\n",
      "13.20     38\n",
      "        ... \n",
      "29.51      1\n",
      "28.60      1\n",
      "29.13      1\n",
      "27.47      1\n",
      "25.43      1\n",
      "Name: count, Length: 2854, dtype: int64\n",
      "delinq_2yrs\n",
      "0.0     33968\n",
      "1.0      3186\n",
      "2.0       660\n",
      "3.0       212\n",
      "4.0        58\n",
      "5.0        21\n",
      "6.0        10\n",
      "7.0         4\n",
      "8.0         2\n",
      "9.0         1\n",
      "11.0        1\n",
      "Name: count, dtype: int64\n",
      "inq_last_6mths\n",
      "0.0    18503\n",
      "1.0    10519\n",
      "2.0     5593\n",
      "3.0     2949\n",
      "4.0      309\n",
      "5.0      143\n",
      "6.0       60\n",
      "7.0       33\n",
      "8.0       14\n",
      "Name: count, dtype: int64\n",
      "open_acc\n",
      "7.0     3869\n",
      "6.0     3786\n",
      "8.0     3777\n",
      "9.0     3597\n",
      "10.0    3091\n",
      "5.0     3033\n",
      "11.0    2651\n",
      "4.0     2235\n",
      "12.0    2206\n",
      "13.0    1838\n",
      "14.0    1423\n",
      "3.0     1408\n",
      "15.0    1136\n",
      "16.0     907\n",
      "17.0     710\n",
      "2.0      547\n",
      "18.0     512\n",
      "19.0     390\n",
      "20.0     282\n",
      "21.0     236\n",
      "22.0     133\n",
      "23.0      94\n",
      "24.0      74\n",
      "25.0      55\n",
      "26.0      29\n",
      "28.0      25\n",
      "27.0      22\n",
      "30.0      15\n",
      "29.0      13\n",
      "31.0       7\n",
      "34.0       5\n",
      "35.0       4\n",
      "32.0       3\n",
      "33.0       3\n",
      "36.0       2\n",
      "39.0       1\n",
      "38.0       1\n",
      "44.0       1\n",
      "41.0       1\n",
      "42.0       1\n",
      "Name: count, dtype: int64\n",
      "pub_rec\n",
      "0.0    36142\n",
      "1.0     1924\n",
      "2.0       47\n",
      "3.0        8\n",
      "4.0        2\n",
      "Name: count, dtype: int64\n",
      "revol_bal\n",
      "0.0         907\n",
      "255.0        14\n",
      "298.0        14\n",
      "1.0          11\n",
      "682.0        10\n",
      "           ... \n",
      "11470.0       1\n",
      "19385.0       1\n",
      "28325.0       1\n",
      "113680.0      1\n",
      "85607.0       1\n",
      "Name: count, Length: 21240, dtype: int64\n"
     ]
    },
    {
     "name": "stdout",
     "output_type": "stream",
     "text": [
      "revol_util\n",
      "0.00     936\n",
      "0.20      62\n",
      "63.00     61\n",
      "40.70     58\n",
      "61.00     56\n",
      "        ... \n",
      "25.74      1\n",
      "0.12       1\n",
      "0.83       1\n",
      "47.36      1\n",
      "7.28       1\n",
      "Name: count, Length: 1087, dtype: int64\n",
      "total_acc\n",
      "16.0    1414\n",
      "15.0    1402\n",
      "17.0    1392\n",
      "14.0    1391\n",
      "20.0    1383\n",
      "        ... \n",
      "78.0       1\n",
      "72.0       1\n",
      "87.0       1\n",
      "77.0       1\n",
      "76.0       1\n",
      "Name: count, Length: 82, dtype: int64\n",
      "fico_score\n",
      "702.0    2049\n",
      "687.0    2030\n",
      "697.0    1982\n",
      "692.0    1967\n",
      "682.0    1959\n",
      "722.0    1778\n",
      "707.0    1769\n",
      "677.0    1757\n",
      "727.0    1723\n",
      "717.0    1710\n",
      "672.0    1613\n",
      "712.0    1610\n",
      "667.0    1572\n",
      "732.0    1536\n",
      "737.0    1511\n",
      "742.0    1418\n",
      "662.0    1377\n",
      "747.0    1257\n",
      "752.0    1233\n",
      "757.0    1037\n",
      "762.0     943\n",
      "772.0     753\n",
      "767.0     733\n",
      "777.0     622\n",
      "782.0     536\n",
      "792.0     398\n",
      "787.0     373\n",
      "797.0     319\n",
      "802.0     226\n",
      "807.0     172\n",
      "812.0     115\n",
      "817.0      24\n",
      "822.0      17\n",
      "827.0       2\n",
      "632.0       1\n",
      "627.0       1\n",
      "Name: count, dtype: int64\n",
      "cr_history\n",
      "17.82    260\n",
      "15.82    252\n",
      "16.07    245\n",
      "14.99    242\n",
      "15.99    236\n",
      "        ... \n",
      "42.47      1\n",
      "44.63      1\n",
      "5.42       1\n",
      "50.38      1\n",
      "38.38      1\n",
      "Name: count, Length: 930, dtype: int64\n",
      "home_ownership_MORTGAGE\n",
      "0    21178\n",
      "1    16945\n",
      "Name: count, dtype: int64\n",
      "home_ownership_NONE\n",
      "0    38120\n",
      "1        3\n",
      "Name: count, dtype: int64\n",
      "home_ownership_OTHER\n",
      "0    38027\n",
      "1       96\n",
      "Name: count, dtype: int64\n",
      "home_ownership_OWN\n",
      "0    35315\n",
      "1     2808\n",
      "Name: count, dtype: int64\n",
      "home_ownership_RENT\n",
      "0    19852\n",
      "1    18271\n",
      "Name: count, dtype: int64\n",
      "verification_status_Not Verified\n",
      "0    21732\n",
      "1    16391\n",
      "Name: count, dtype: int64\n",
      "verification_status_Source Verified\n",
      "0    28461\n",
      "1     9662\n",
      "Name: count, dtype: int64\n",
      "verification_status_Verified\n",
      "0    26053\n",
      "1    12070\n",
      "Name: count, dtype: int64\n",
      "purpose_car\n",
      "0    36640\n",
      "1     1483\n",
      "Name: count, dtype: int64\n",
      "purpose_credit_card\n",
      "0    33179\n",
      "1     4944\n",
      "Name: count, dtype: int64\n",
      "purpose_debt_consolidation\n",
      "0    20158\n",
      "1    17965\n",
      "Name: count, dtype: int64\n",
      "purpose_educational\n",
      "0    37811\n",
      "1      312\n",
      "Name: count, dtype: int64\n",
      "purpose_home_improvement\n",
      "0    35271\n",
      "1     2852\n",
      "Name: count, dtype: int64\n",
      "purpose_house\n",
      "0    37764\n",
      "1      359\n",
      "Name: count, dtype: int64\n",
      "purpose_major_purchase\n",
      "0    36018\n",
      "1     2105\n",
      "Name: count, dtype: int64\n",
      "purpose_medical\n",
      "0    37460\n",
      "1      663\n",
      "Name: count, dtype: int64\n",
      "purpose_moving\n",
      "0    37567\n",
      "1      556\n",
      "Name: count, dtype: int64\n",
      "purpose_other\n",
      "0    34359\n",
      "1     3764\n",
      "Name: count, dtype: int64\n",
      "purpose_renewable_energy\n",
      "0    38028\n",
      "1       95\n",
      "Name: count, dtype: int64\n",
      "purpose_small_business\n",
      "0    36374\n",
      "1     1749\n",
      "Name: count, dtype: int64\n",
      "purpose_vacation\n",
      "0    37774\n",
      "1      349\n",
      "Name: count, dtype: int64\n",
      "purpose_wedding\n",
      "0    37196\n",
      "1      927\n",
      "Name: count, dtype: int64\n",
      "term_ 36 months\n",
      "1    28234\n",
      "0     9889\n",
      "Name: count, dtype: int64\n",
      "term_ 60 months\n",
      "0    28234\n",
      "1     9889\n",
      "Name: count, dtype: int64\n"
     ]
    }
   ],
   "source": [
    "col_value_counts()"
   ]
  },
  {
   "cell_type": "code",
   "execution_count": 267,
   "metadata": {},
   "outputs": [
    {
     "name": "stdout",
     "output_type": "stream",
     "text": [
      "loan_amnt column is converted to integer type column.\n",
      "\n",
      "delinq_2yrs column is converted to integer type column.\n",
      "\n",
      "inq_last_6mths column is converted to integer type column.\n",
      "\n",
      "open_acc column is converted to integer type column.\n",
      "\n",
      "pub_rec column is converted to integer type column.\n",
      "\n",
      "total_acc column is converted to integer type column.\n",
      "\n"
     ]
    }
   ],
   "source": [
    "# Converting some columns to integer type column as \n",
    "# integer type data consumes less memory than float type data\n",
    "\n",
    "float_to_int = ['loan_amnt', 'delinq_2yrs', 'inq_last_6mths', 'open_acc', 'pub_rec', 'total_acc']\n",
    "for x in float_to_int:\n",
    "    filtered_loans[x] = filtered_loans[x].astype('int64')\n",
    "    print(f\"{x} column is converted to integer type column.\\n\")"
   ]
  },
  {
   "cell_type": "markdown",
   "metadata": {},
   "source": [
    "**Now exploring columns to transform them and make them ready as a training data**\n",
    "- Starting with 'loan_amnt' column."
   ]
  },
  {
   "cell_type": "code",
   "execution_count": 268,
   "metadata": {},
   "outputs": [
    {
     "data": {
      "text/plain": [
       "dtype('int64')"
      ]
     },
     "execution_count": 268,
     "metadata": {},
     "output_type": "execute_result"
    }
   ],
   "source": [
    "filtered_loans['loan_amnt'].dtype"
   ]
  },
  {
   "cell_type": "code",
   "execution_count": 269,
   "metadata": {},
   "outputs": [
    {
     "data": {
      "text/plain": [
       "<Axes: xlabel='index', ylabel='loan_amnt'>"
      ]
     },
     "execution_count": 269,
     "metadata": {},
     "output_type": "execute_result"
    },
    {
     "data": {
      "image/png": "[encoded data removed]",
      "text/plain": [
       "<Figure size 640x480 with 1 Axes>"
      ]
     },
     "metadata": {},
     "output_type": "display_data"
    }
   ],
   "source": [
    "temp_df = filtered_loans.reset_index()\n",
    "temp_df.plot(kind='scatter', x='index', y='loan_amnt')"
   ]
  },
  {
   "cell_type": "markdown",
   "metadata": {},
   "source": [
    "There are no visible groups. 'installment' column is based on this so no need to explore that.\n",
    "\n",
    "- **Next is 'annual_inc' column**"
   ]
  },
  {
   "cell_type": "code",
   "execution_count": 270,
   "metadata": {},
   "outputs": [
    {
     "data": {
      "text/plain": [
       "<Axes: xlabel='index', ylabel='annual_inc'>"
      ]
     },
     "execution_count": 270,
     "metadata": {},
     "output_type": "execute_result"
    },
    {
     "data": {
      "image/png": "[encoded data removed]",
      "text/plain": [
       "<Figure size 640x480 with 1 Axes>"
      ]
     },
     "metadata": {},
     "output_type": "display_data"
    }
   ],
   "source": [
    "# PLotting 'annual_inc' column\n",
    "temp_df.plot(kind='scatter', x='index', y='annual_inc')"
   ]
  },
  {
   "cell_type": "markdown",
   "metadata": {},
   "source": [
    "There are no visible groups.\n",
    "\n",
    "To make sure all the features are of the same length, contain no null value, and are numerical. I'll use pandas's **info** method to inspect the filtered_loans DataFrame:"
   ]
  },
  {
   "cell_type": "code",
   "execution_count": 271,
   "metadata": {},
   "outputs": [
    {
     "name": "stdout",
     "output_type": "stream",
     "text": [
      "<class 'pandas.core.frame.DataFrame'>\n",
      "Index: 38123 entries, 0 to 39238\n",
      "Data columns (total 40 columns):\n",
      " #   Column                               Non-Null Count  Dtype  \n",
      "---  ------                               --------------  -----  \n",
      " 0   loan_amnt                            38123 non-null  int64  \n",
      " 1   installment                          38123 non-null  float64\n",
      " 2   grade                                38123 non-null  int64  \n",
      " 3   emp_length                           38123 non-null  int64  \n",
      " 4   annual_inc                           38123 non-null  float64\n",
      " 5   loan_status                          38123 non-null  int64  \n",
      " 6   dti                                  38123 non-null  float64\n",
      " 7   delinq_2yrs                          38123 non-null  int64  \n",
      " 8   inq_last_6mths                       38123 non-null  int64  \n",
      " 9   open_acc                             38123 non-null  int64  \n",
      " 10  pub_rec                              38123 non-null  int64  \n",
      " 11  revol_bal                            38123 non-null  float64\n",
      " 12  revol_util                           38123 non-null  float64\n",
      " 13  total_acc                            38123 non-null  int64  \n",
      " 14  fico_score                           38123 non-null  float64\n",
      " 15  cr_history                           38123 non-null  float64\n",
      " 16  home_ownership_MORTGAGE              38123 non-null  int32  \n",
      " 17  home_ownership_NONE                  38123 non-null  int32  \n",
      " 18  home_ownership_OTHER                 38123 non-null  int32  \n",
      " 19  home_ownership_OWN                   38123 non-null  int32  \n",
      " 20  home_ownership_RENT                  38123 non-null  int32  \n",
      " 21  verification_status_Not Verified     38123 non-null  int32  \n",
      " 22  verification_status_Source Verified  38123 non-null  int32  \n",
      " 23  verification_status_Verified         38123 non-null  int32  \n",
      " 24  purpose_car                          38123 non-null  int32  \n",
      " 25  purpose_credit_card                  38123 non-null  int32  \n",
      " 26  purpose_debt_consolidation           38123 non-null  int32  \n",
      " 27  purpose_educational                  38123 non-null  int32  \n",
      " 28  purpose_home_improvement             38123 non-null  int32  \n",
      " 29  purpose_house                        38123 non-null  int32  \n",
      " 30  purpose_major_purchase               38123 non-null  int32  \n",
      " 31  purpose_medical                      38123 non-null  int32  \n",
      " 32  purpose_moving                       38123 non-null  int32  \n",
      " 33  purpose_other                        38123 non-null  int32  \n",
      " 34  purpose_renewable_energy             38123 non-null  int32  \n",
      " 35  purpose_small_business               38123 non-null  int32  \n",
      " 36  purpose_vacation                     38123 non-null  int32  \n",
      " 37  purpose_wedding                      38123 non-null  int32  \n",
      " 38  term_ 36 months                      38123 non-null  int32  \n",
      " 39  term_ 60 months                      38123 non-null  int32  \n",
      "dtypes: float64(7), int32(24), int64(9)\n",
      "memory usage: 8.4 MB\n"
     ]
    }
   ],
   "source": [
    "filtered_loans.info()"
   ]
  },
  {
   "cell_type": "markdown",
   "metadata": {},
   "source": [
    "Now the data is cleaned and preprocessed it can be used as training data so i will store it in a csv file named **'cleaned_loans_2007.csv'**."
   ]
  },
  {
   "cell_type": "code",
   "execution_count": 272,
   "metadata": {},
   "outputs": [],
   "source": [
    "filtered_loans.to_csv(\"cleaned_loans_2007.csv\",index=False)"
   ]
  }
 ],
 "metadata": {
  "kernelspec": {
   "display_name": "Python 3",
   "language": "python",
   "name": "python3"
  },
  "language_info": {
   "codemirror_mode": {
    "name": "ipython",
    "version": 3
   },
   "file_extension": ".py",
   "mimetype": "text/x-python",
   "name": "python",
   "nbconvert_exporter": "python",
   "pygments_lexer": "ipython3",
   "version": "3.11.8"
  }
 },
 "nbformat": 4,
 "nbformat_minor": 2
}
